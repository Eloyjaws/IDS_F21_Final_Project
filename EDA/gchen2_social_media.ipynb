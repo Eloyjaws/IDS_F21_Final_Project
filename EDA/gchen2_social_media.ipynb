{
 "cells": [
  {
   "cell_type": "code",
   "execution_count": 9,
   "id": "142a9571",
   "metadata": {},
   "outputs": [],
   "source": [
    "import numpy as np\n",
    "import pandas as pd\n",
    "import matplotlib.pyplot as plt\n",
    "import seaborn as sns\n",
    "from copy import deepcopy\n",
    "\n",
    "sns.set()\n",
    "sns.set_style(\"darkgrid\")\n",
    "%matplotlib inline"
   ]
  },
  {
   "cell_type": "code",
   "execution_count": 10,
   "id": "b8c5eadf",
   "metadata": {},
   "outputs": [],
   "source": [
    "DATA_DIR = \"./\""
   ]
  },
  {
   "cell_type": "markdown",
   "id": "9552c8d6",
   "metadata": {},
   "source": [
    "## Loneliness Reported by Older Individuals"
   ]
  },
  {
   "cell_type": "code",
   "execution_count": 11,
   "id": "9f6bcd50",
   "metadata": {},
   "outputs": [
    {
     "data": {
      "text/html": [
       "<div>\n",
       "<style scoped>\n",
       "    .dataframe tbody tr th:only-of-type {\n",
       "        vertical-align: middle;\n",
       "    }\n",
       "\n",
       "    .dataframe tbody tr th {\n",
       "        vertical-align: top;\n",
       "    }\n",
       "\n",
       "    .dataframe thead th {\n",
       "        text-align: right;\n",
       "    }\n",
       "</style>\n",
       "<table border=\"1\" class=\"dataframe\">\n",
       "  <thead>\n",
       "    <tr style=\"text-align: right;\">\n",
       "      <th></th>\n",
       "      <th>Entity</th>\n",
       "      <th>Code</th>\n",
       "      <th>Year</th>\n",
       "      <th>Self-reported feelings of loneliness among older adults</th>\n",
       "    </tr>\n",
       "  </thead>\n",
       "  <tbody>\n",
       "    <tr>\n",
       "      <th>0</th>\n",
       "      <td>Austria</td>\n",
       "      <td>AUT</td>\n",
       "      <td>2005</td>\n",
       "      <td>46</td>\n",
       "    </tr>\n",
       "    <tr>\n",
       "      <th>1</th>\n",
       "      <td>Belgium</td>\n",
       "      <td>BEL</td>\n",
       "      <td>2005</td>\n",
       "      <td>42</td>\n",
       "    </tr>\n",
       "    <tr>\n",
       "      <th>2</th>\n",
       "      <td>Denmark</td>\n",
       "      <td>DNK</td>\n",
       "      <td>2005</td>\n",
       "      <td>25</td>\n",
       "    </tr>\n",
       "    <tr>\n",
       "      <th>3</th>\n",
       "      <td>England</td>\n",
       "      <td>GBR</td>\n",
       "      <td>2018</td>\n",
       "      <td>33</td>\n",
       "    </tr>\n",
       "    <tr>\n",
       "      <th>4</th>\n",
       "      <td>Finland</td>\n",
       "      <td>FIN</td>\n",
       "      <td>2002</td>\n",
       "      <td>39</td>\n",
       "    </tr>\n",
       "  </tbody>\n",
       "</table>\n",
       "</div>"
      ],
      "text/plain": [
       "    Entity Code  Year  Self-reported feelings of loneliness among older adults\n",
       "0  Austria  AUT  2005                                                 46      \n",
       "1  Belgium  BEL  2005                                                 42      \n",
       "2  Denmark  DNK  2005                                                 25      \n",
       "3  England  GBR  2018                                                 33      \n",
       "4  Finland  FIN  2002                                                 39      "
      ]
     },
     "execution_count": 11,
     "metadata": {},
     "output_type": "execute_result"
    }
   ],
   "source": [
    "df_old = pd.read_csv(DATA_DIR+\"older_lonliness.csv\")\n",
    "df_old.head()"
   ]
  },
  {
   "cell_type": "code",
   "execution_count": 12,
   "id": "6960fd9d",
   "metadata": {},
   "outputs": [
    {
     "data": {
      "text/html": [
       "<div>\n",
       "<style scoped>\n",
       "    .dataframe tbody tr th:only-of-type {\n",
       "        vertical-align: middle;\n",
       "    }\n",
       "\n",
       "    .dataframe tbody tr th {\n",
       "        vertical-align: top;\n",
       "    }\n",
       "\n",
       "    .dataframe thead th {\n",
       "        text-align: right;\n",
       "    }\n",
       "</style>\n",
       "<table border=\"1\" class=\"dataframe\">\n",
       "  <thead>\n",
       "    <tr style=\"text-align: right;\">\n",
       "      <th></th>\n",
       "      <th>Year</th>\n",
       "      <th>Self-reported feelings of loneliness among older adults</th>\n",
       "    </tr>\n",
       "  </thead>\n",
       "  <tbody>\n",
       "    <tr>\n",
       "      <th>count</th>\n",
       "      <td>15.000000</td>\n",
       "      <td>15.000000</td>\n",
       "    </tr>\n",
       "    <tr>\n",
       "      <th>mean</th>\n",
       "      <td>2006.533333</td>\n",
       "      <td>39.000000</td>\n",
       "    </tr>\n",
       "    <tr>\n",
       "      <th>std</th>\n",
       "      <td>4.718757</td>\n",
       "      <td>9.827076</td>\n",
       "    </tr>\n",
       "    <tr>\n",
       "      <th>min</th>\n",
       "      <td>2002.000000</td>\n",
       "      <td>25.000000</td>\n",
       "    </tr>\n",
       "    <tr>\n",
       "      <th>25%</th>\n",
       "      <td>2005.000000</td>\n",
       "      <td>31.500000</td>\n",
       "    </tr>\n",
       "    <tr>\n",
       "      <th>50%</th>\n",
       "      <td>2005.000000</td>\n",
       "      <td>39.000000</td>\n",
       "    </tr>\n",
       "    <tr>\n",
       "      <th>75%</th>\n",
       "      <td>2005.000000</td>\n",
       "      <td>45.500000</td>\n",
       "    </tr>\n",
       "    <tr>\n",
       "      <th>max</th>\n",
       "      <td>2018.000000</td>\n",
       "      <td>62.000000</td>\n",
       "    </tr>\n",
       "  </tbody>\n",
       "</table>\n",
       "</div>"
      ],
      "text/plain": [
       "              Year  Self-reported feelings of loneliness among older adults\n",
       "count    15.000000                                          15.000000      \n",
       "mean   2006.533333                                          39.000000      \n",
       "std       4.718757                                           9.827076      \n",
       "min    2002.000000                                          25.000000      \n",
       "25%    2005.000000                                          31.500000      \n",
       "50%    2005.000000                                          39.000000      \n",
       "75%    2005.000000                                          45.500000      \n",
       "max    2018.000000                                          62.000000      "
      ]
     },
     "execution_count": 12,
     "metadata": {},
     "output_type": "execute_result"
    }
   ],
   "source": [
    "df_old.describe()"
   ]
  },
  {
   "cell_type": "code",
   "execution_count": 13,
   "id": "633ed008",
   "metadata": {},
   "outputs": [
    {
     "data": {
      "text/plain": [
       "Entity                                                     0\n",
       "Code                                                       0\n",
       "Year                                                       0\n",
       "Self-reported feelings of loneliness among older adults    0\n",
       "dtype: int64"
      ]
     },
     "execution_count": 13,
     "metadata": {},
     "output_type": "execute_result"
    }
   ],
   "source": [
    "df_old.isna().sum()"
   ]
  },
  {
   "cell_type": "code",
   "execution_count": 15,
   "id": "6b008458",
   "metadata": {},
   "outputs": [
    {
     "data": {
      "text/plain": [
       "[Text(0, 0, 'Greece'),\n",
       " Text(1, 0, 'Israel'),\n",
       " Text(2, 0, 'Italy'),\n",
       " Text(3, 0, 'Austria'),\n",
       " Text(4, 0, 'France'),\n",
       " Text(5, 0, 'Belgium'),\n",
       " Text(6, 0, 'Spain'),\n",
       " Text(7, 0, 'Finland'),\n",
       " Text(8, 0, 'Germany'),\n",
       " Text(9, 0, 'Netherlands'),\n",
       " Text(10, 0, 'England'),\n",
       " Text(11, 0, 'Sweden'),\n",
       " Text(12, 0, 'United States'),\n",
       " Text(13, 0, 'Switzerland'),\n",
       " Text(14, 0, 'Denmark')]"
      ]
     },
     "execution_count": 15,
     "metadata": {},
     "output_type": "execute_result"
    },
    {
     "data": {
      "image/png": "[encoded data removed]",
      "text/plain": [
       "<Figure size 432x288 with 1 Axes>"
      ]
     },
     "metadata": {
      "needs_background": "light"
     },
     "output_type": "display_data"
    }
   ],
   "source": [
    "# appears that cleaning is not necessary, try ploting:\n",
    "df_old_sorted = df_old.sort_values(by=\"Self-reported feelings of loneliness among older adults\", ascending=False)\n",
    "g1 = sns.barplot(data=df_old_sorted, x=\"Entity\", y=\"Self-reported feelings of loneliness among older adults\")\n",
    "g1.set_xticklabels(g1.get_xticklabels(), rotation=90)"
   ]
  },
  {
   "cell_type": "code",
   "execution_count": 16,
   "id": "ed955fb8",
   "metadata": {},
   "outputs": [
    {
     "data": {
      "text/plain": [
       "<AxesSubplot:xlabel='Self-reported feelings of loneliness among older adults', ylabel='Entity'>"
      ]
     },
     "execution_count": 16,
     "metadata": {},
     "output_type": "execute_result"
    },
    {
     "data": {
      "image/png": "[encoded data removed]",
      "text/plain": [
       "<Figure size 432x288 with 1 Axes>"
      ]
     },
     "metadata": {
      "needs_background": "light"
     },
     "output_type": "display_data"
    }
   ],
   "source": [
    "# Entity entries have long names, try flipping the axis\n",
    "sns.barplot(data=df_old_sorted, y=\"Entity\", x=\"Self-reported feelings of loneliness among older adults\", orient=\"h\")"
   ]
  },
  {
   "cell_type": "markdown",
   "id": "709e4eee",
   "metadata": {},
   "source": [
    "## Job Search US 2015\n",
    "Similar procedures can be performed for other countries"
   ]
  },
  {
   "cell_type": "code",
   "execution_count": 17,
   "id": "09f58904",
   "metadata": {},
   "outputs": [],
   "source": [
    "df_job = pd.read_csv(\"job-seeker-job-search-pew.csv\")"
   ]
  },
  {
   "cell_type": "code",
   "execution_count": 18,
   "id": "b8cdab29",
   "metadata": {},
   "outputs": [
    {
     "data": {
      "text/html": [
       "<div>\n",
       "<style scoped>\n",
       "    .dataframe tbody tr th:only-of-type {\n",
       "        vertical-align: middle;\n",
       "    }\n",
       "\n",
       "    .dataframe tbody tr th {\n",
       "        vertical-align: top;\n",
       "    }\n",
       "\n",
       "    .dataframe thead th {\n",
       "        text-align: right;\n",
       "    }\n",
       "</style>\n",
       "<table border=\"1\" class=\"dataframe\">\n",
       "  <thead>\n",
       "    <tr style=\"text-align: right;\">\n",
       "      <th></th>\n",
       "      <th>Method</th>\n",
       "      <th>Proportion</th>\n",
       "    </tr>\n",
       "  </thead>\n",
       "  <tbody>\n",
       "    <tr>\n",
       "      <th>0</th>\n",
       "      <td>Percentage who used online resources and infor...</td>\n",
       "      <td>79</td>\n",
       "    </tr>\n",
       "    <tr>\n",
       "      <th>1</th>\n",
       "      <td>Percentage who used employment agencies (gover...</td>\n",
       "      <td>32</td>\n",
       "    </tr>\n",
       "    <tr>\n",
       "      <th>2</th>\n",
       "      <td>Percentage who used ads in print publications</td>\n",
       "      <td>32</td>\n",
       "    </tr>\n",
       "    <tr>\n",
       "      <th>3</th>\n",
       "      <td>Percentage who used professional or work conne...</td>\n",
       "      <td>63</td>\n",
       "    </tr>\n",
       "    <tr>\n",
       "      <th>4</th>\n",
       "      <td>Percentage who used job fairs, conferences, an...</td>\n",
       "      <td>28</td>\n",
       "    </tr>\n",
       "    <tr>\n",
       "      <th>5</th>\n",
       "      <td>Percentage who used connections with close fri...</td>\n",
       "      <td>66</td>\n",
       "    </tr>\n",
       "    <tr>\n",
       "      <th>6</th>\n",
       "      <td>Percentage who used acquaintances or friends-o...</td>\n",
       "      <td>55</td>\n",
       "    </tr>\n",
       "  </tbody>\n",
       "</table>\n",
       "</div>"
      ],
      "text/plain": [
       "                                              Method  Proportion\n",
       "0  Percentage who used online resources and infor...          79\n",
       "1  Percentage who used employment agencies (gover...          32\n",
       "2      Percentage who used ads in print publications          32\n",
       "3  Percentage who used professional or work conne...          63\n",
       "4  Percentage who used job fairs, conferences, an...          28\n",
       "5  Percentage who used connections with close fri...          66\n",
       "6  Percentage who used acquaintances or friends-o...          55"
      ]
     },
     "execution_count": 18,
     "metadata": {},
     "output_type": "execute_result"
    }
   ],
   "source": [
    "df_job.head(7)"
   ]
  },
  {
   "cell_type": "code",
   "execution_count": 19,
   "id": "a398650b",
   "metadata": {},
   "outputs": [
    {
     "data": {
      "text/html": [
       "<div>\n",
       "<style scoped>\n",
       "    .dataframe tbody tr th:only-of-type {\n",
       "        vertical-align: middle;\n",
       "    }\n",
       "\n",
       "    .dataframe tbody tr th {\n",
       "        vertical-align: top;\n",
       "    }\n",
       "\n",
       "    .dataframe thead th {\n",
       "        text-align: right;\n",
       "    }\n",
       "</style>\n",
       "<table border=\"1\" class=\"dataframe\">\n",
       "  <thead>\n",
       "    <tr style=\"text-align: right;\">\n",
       "      <th></th>\n",
       "      <th>Proportion</th>\n",
       "    </tr>\n",
       "  </thead>\n",
       "  <tbody>\n",
       "    <tr>\n",
       "      <th>count</th>\n",
       "      <td>7.000000</td>\n",
       "    </tr>\n",
       "    <tr>\n",
       "      <th>mean</th>\n",
       "      <td>50.714286</td>\n",
       "    </tr>\n",
       "    <tr>\n",
       "      <th>std</th>\n",
       "      <td>20.080789</td>\n",
       "    </tr>\n",
       "    <tr>\n",
       "      <th>min</th>\n",
       "      <td>28.000000</td>\n",
       "    </tr>\n",
       "    <tr>\n",
       "      <th>25%</th>\n",
       "      <td>32.000000</td>\n",
       "    </tr>\n",
       "    <tr>\n",
       "      <th>50%</th>\n",
       "      <td>55.000000</td>\n",
       "    </tr>\n",
       "    <tr>\n",
       "      <th>75%</th>\n",
       "      <td>64.500000</td>\n",
       "    </tr>\n",
       "    <tr>\n",
       "      <th>max</th>\n",
       "      <td>79.000000</td>\n",
       "    </tr>\n",
       "  </tbody>\n",
       "</table>\n",
       "</div>"
      ],
      "text/plain": [
       "       Proportion\n",
       "count    7.000000\n",
       "mean    50.714286\n",
       "std     20.080789\n",
       "min     28.000000\n",
       "25%     32.000000\n",
       "50%     55.000000\n",
       "75%     64.500000\n",
       "max     79.000000"
      ]
     },
     "execution_count": 19,
     "metadata": {},
     "output_type": "execute_result"
    }
   ],
   "source": [
    "df_job.describe()"
   ]
  },
  {
   "cell_type": "code",
   "execution_count": 11,
   "id": "d77d5216",
   "metadata": {},
   "outputs": [
    {
     "data": {
      "text/plain": [
       "Method        0\n",
       "Proportion    0\n",
       "dtype: int64"
      ]
     },
     "execution_count": 11,
     "metadata": {},
     "output_type": "execute_result"
    }
   ],
   "source": [
    "df_job.isna().sum()"
   ]
  },
  {
   "cell_type": "code",
   "execution_count": 20,
   "id": "2ca791ec",
   "metadata": {},
   "outputs": [],
   "source": [
    "# sufficiently simple & clean dataset, proceed to sorting & plotting\n",
    "df_job_sorted = df_job.sort_values(by=\"Proportion\", ascending=False)"
   ]
  },
  {
   "cell_type": "code",
   "execution_count": 21,
   "id": "255fc495",
   "metadata": {},
   "outputs": [
    {
     "data": {
      "text/plain": [
       "<AxesSubplot:xlabel='Proportion', ylabel='Method'>"
      ]
     },
     "execution_count": 21,
     "metadata": {},
     "output_type": "execute_result"
    },
    {
     "data": {
      "image/png": "[encoded data removed]",
      "text/plain": [
       "<Figure size 432x288 with 1 Axes>"
      ]
     },
     "metadata": {
      "needs_background": "light"
     },
     "output_type": "display_data"
    }
   ],
   "source": [
    "sns.barplot(data=df_job_sorted, x=\"Proportion\", y=\"Method\", orient=\"h\")"
   ]
  },
  {
   "cell_type": "markdown",
   "id": "42d3a00f",
   "metadata": {},
   "source": [
    "## productivity"
   ]
  },
  {
   "cell_type": "code",
   "execution_count": 22,
   "id": "4fdc199e",
   "metadata": {},
   "outputs": [
    {
     "data": {
      "text/html": [
       "<div>\n",
       "<style scoped>\n",
       "    .dataframe tbody tr th:only-of-type {\n",
       "        vertical-align: middle;\n",
       "    }\n",
       "\n",
       "    .dataframe tbody tr th {\n",
       "        vertical-align: top;\n",
       "    }\n",
       "\n",
       "    .dataframe thead th {\n",
       "        text-align: right;\n",
       "    }\n",
       "</style>\n",
       "<table border=\"1\" class=\"dataframe\">\n",
       "  <thead>\n",
       "    <tr style=\"text-align: right;\">\n",
       "      <th></th>\n",
       "      <th>Entity</th>\n",
       "      <th>Code</th>\n",
       "      <th>Year</th>\n",
       "      <th>Productivity (PWT 9.1 (2019))</th>\n",
       "    </tr>\n",
       "  </thead>\n",
       "  <tbody>\n",
       "    <tr>\n",
       "      <th>0</th>\n",
       "      <td>Argentina</td>\n",
       "      <td>ARG</td>\n",
       "      <td>1950</td>\n",
       "      <td>3.132358</td>\n",
       "    </tr>\n",
       "    <tr>\n",
       "      <th>1</th>\n",
       "      <td>Argentina</td>\n",
       "      <td>ARG</td>\n",
       "      <td>1951</td>\n",
       "      <td>3.153722</td>\n",
       "    </tr>\n",
       "    <tr>\n",
       "      <th>2</th>\n",
       "      <td>Argentina</td>\n",
       "      <td>ARG</td>\n",
       "      <td>1952</td>\n",
       "      <td>2.827533</td>\n",
       "    </tr>\n",
       "    <tr>\n",
       "      <th>3</th>\n",
       "      <td>Argentina</td>\n",
       "      <td>ARG</td>\n",
       "      <td>1953</td>\n",
       "      <td>2.963201</td>\n",
       "    </tr>\n",
       "    <tr>\n",
       "      <th>4</th>\n",
       "      <td>Argentina</td>\n",
       "      <td>ARG</td>\n",
       "      <td>1954</td>\n",
       "      <td>3.045096</td>\n",
       "    </tr>\n",
       "  </tbody>\n",
       "</table>\n",
       "</div>"
      ],
      "text/plain": [
       "      Entity Code  Year  Productivity (PWT 9.1 (2019))\n",
       "0  Argentina  ARG  1950                       3.132358\n",
       "1  Argentina  ARG  1951                       3.153722\n",
       "2  Argentina  ARG  1952                       2.827533\n",
       "3  Argentina  ARG  1953                       2.963201\n",
       "4  Argentina  ARG  1954                       3.045096"
      ]
     },
     "execution_count": 22,
     "metadata": {},
     "output_type": "execute_result"
    }
   ],
   "source": [
    "df_productivity = pd.read_csv(\"productivity.csv\")\n",
    "df_productivity.head()"
   ]
  },
  {
   "cell_type": "code",
   "execution_count": 23,
   "id": "060db718",
   "metadata": {},
   "outputs": [
    {
     "data": {
      "text/html": [
       "<div>\n",
       "<style scoped>\n",
       "    .dataframe tbody tr th:only-of-type {\n",
       "        vertical-align: middle;\n",
       "    }\n",
       "\n",
       "    .dataframe tbody tr th {\n",
       "        vertical-align: top;\n",
       "    }\n",
       "\n",
       "    .dataframe thead th {\n",
       "        text-align: right;\n",
       "    }\n",
       "</style>\n",
       "<table border=\"1\" class=\"dataframe\">\n",
       "  <thead>\n",
       "    <tr style=\"text-align: right;\">\n",
       "      <th></th>\n",
       "      <th>Year</th>\n",
       "      <th>Productivity (PWT 9.1 (2019))</th>\n",
       "    </tr>\n",
       "  </thead>\n",
       "  <tbody>\n",
       "    <tr>\n",
       "      <th>count</th>\n",
       "      <td>3373.000000</td>\n",
       "      <td>3373.000000</td>\n",
       "    </tr>\n",
       "    <tr>\n",
       "      <th>mean</th>\n",
       "      <td>1989.147940</td>\n",
       "      <td>20.385341</td>\n",
       "    </tr>\n",
       "    <tr>\n",
       "      <th>std</th>\n",
       "      <td>18.502181</td>\n",
       "      <td>16.144944</td>\n",
       "    </tr>\n",
       "    <tr>\n",
       "      <th>min</th>\n",
       "      <td>1950.000000</td>\n",
       "      <td>0.581635</td>\n",
       "    </tr>\n",
       "    <tr>\n",
       "      <th>25%</th>\n",
       "      <td>1975.000000</td>\n",
       "      <td>7.440670</td>\n",
       "    </tr>\n",
       "    <tr>\n",
       "      <th>50%</th>\n",
       "      <td>1992.000000</td>\n",
       "      <td>16.455084</td>\n",
       "    </tr>\n",
       "    <tr>\n",
       "      <th>75%</th>\n",
       "      <td>2005.000000</td>\n",
       "      <td>29.727093</td>\n",
       "    </tr>\n",
       "    <tr>\n",
       "      <th>max</th>\n",
       "      <td>2017.000000</td>\n",
       "      <td>109.772140</td>\n",
       "    </tr>\n",
       "  </tbody>\n",
       "</table>\n",
       "</div>"
      ],
      "text/plain": [
       "              Year  Productivity (PWT 9.1 (2019))\n",
       "count  3373.000000                    3373.000000\n",
       "mean   1989.147940                      20.385341\n",
       "std      18.502181                      16.144944\n",
       "min    1950.000000                       0.581635\n",
       "25%    1975.000000                       7.440670\n",
       "50%    1992.000000                      16.455084\n",
       "75%    2005.000000                      29.727093\n",
       "max    2017.000000                     109.772140"
      ]
     },
     "execution_count": 23,
     "metadata": {},
     "output_type": "execute_result"
    }
   ],
   "source": [
    "df_productivity.describe()"
   ]
  },
  {
   "cell_type": "code",
   "execution_count": 24,
   "id": "b79d0f0a",
   "metadata": {},
   "outputs": [
    {
     "data": {
      "text/plain": [
       "Entity                           0\n",
       "Code                             0\n",
       "Year                             0\n",
       "Productivity (PWT 9.1 (2019))    0\n",
       "dtype: int64"
      ]
     },
     "execution_count": 24,
     "metadata": {},
     "output_type": "execute_result"
    }
   ],
   "source": [
    "df_productivity.isna().sum()"
   ]
  },
  {
   "cell_type": "code",
   "execution_count": 25,
   "id": "840d3e3f",
   "metadata": {},
   "outputs": [
    {
     "data": {
      "text/html": [
       "<div>\n",
       "<style scoped>\n",
       "    .dataframe tbody tr th:only-of-type {\n",
       "        vertical-align: middle;\n",
       "    }\n",
       "\n",
       "    .dataframe tbody tr th {\n",
       "        vertical-align: top;\n",
       "    }\n",
       "\n",
       "    .dataframe thead th {\n",
       "        text-align: right;\n",
       "    }\n",
       "</style>\n",
       "<table border=\"1\" class=\"dataframe\">\n",
       "  <thead>\n",
       "    <tr style=\"text-align: right;\">\n",
       "      <th></th>\n",
       "      <th>Entity</th>\n",
       "      <th>Code</th>\n",
       "      <th>Year</th>\n",
       "      <th>Productivity</th>\n",
       "    </tr>\n",
       "  </thead>\n",
       "  <tbody>\n",
       "    <tr>\n",
       "      <th>0</th>\n",
       "      <td>Argentina</td>\n",
       "      <td>ARG</td>\n",
       "      <td>1950</td>\n",
       "      <td>3.132358</td>\n",
       "    </tr>\n",
       "    <tr>\n",
       "      <th>1</th>\n",
       "      <td>Argentina</td>\n",
       "      <td>ARG</td>\n",
       "      <td>1951</td>\n",
       "      <td>3.153722</td>\n",
       "    </tr>\n",
       "    <tr>\n",
       "      <th>2</th>\n",
       "      <td>Argentina</td>\n",
       "      <td>ARG</td>\n",
       "      <td>1952</td>\n",
       "      <td>2.827533</td>\n",
       "    </tr>\n",
       "    <tr>\n",
       "      <th>3</th>\n",
       "      <td>Argentina</td>\n",
       "      <td>ARG</td>\n",
       "      <td>1953</td>\n",
       "      <td>2.963201</td>\n",
       "    </tr>\n",
       "    <tr>\n",
       "      <th>4</th>\n",
       "      <td>Argentina</td>\n",
       "      <td>ARG</td>\n",
       "      <td>1954</td>\n",
       "      <td>3.045096</td>\n",
       "    </tr>\n",
       "  </tbody>\n",
       "</table>\n",
       "</div>"
      ],
      "text/plain": [
       "      Entity Code  Year  Productivity\n",
       "0  Argentina  ARG  1950      3.132358\n",
       "1  Argentina  ARG  1951      3.153722\n",
       "2  Argentina  ARG  1952      2.827533\n",
       "3  Argentina  ARG  1953      2.963201\n",
       "4  Argentina  ARG  1954      3.045096"
      ]
     },
     "execution_count": 25,
     "metadata": {},
     "output_type": "execute_result"
    }
   ],
   "source": [
    "# replace the long feature name\n",
    "df_productivity.rename(columns={\"Productivity (PWT 9.1 (2019))\": \"Productivity\"}, inplace=True)\n",
    "df_productivity.head()"
   ]
  },
  {
   "cell_type": "code",
   "execution_count": 26,
   "id": "1128eaa3",
   "metadata": {},
   "outputs": [
    {
     "name": "stdout",
     "output_type": "stream",
     "text": [
      "1950 2017\n"
     ]
    }
   ],
   "source": [
    "# To visualize the dataset in a country-wise race in flourish.org,\n",
    "# we need to use year as feature and productivity as values\n",
    "# prep work starts here\n",
    "min_year = df_productivity[\"Year\"].min()\n",
    "max_year = df_productivity[\"Year\"].max()\n",
    "print(min_year, max_year)"
   ]
  },
  {
   "cell_type": "code",
   "execution_count": 27,
   "id": "29281b5e",
   "metadata": {},
   "outputs": [
    {
     "data": {
      "text/plain": [
       "array(['ARG', 'AUS', 'AUT', 'BGD', 'BRB', 'BEL', 'BRA', 'BGR', 'KHM',\n",
       "       'CAN', 'CHL', 'CHN', 'COL', 'CRI', 'HRV', 'CYP', 'CZE', 'DNK',\n",
       "       'ECU', 'EST', 'FIN', 'FRA', 'DEU', 'GRC', 'HKG', 'HUN', 'ISL',\n",
       "       'IND', 'IDN', 'IRL', 'ISR', 'ITA', 'JAM', 'JPN', 'LVA', 'LTU',\n",
       "       'LUX', 'MYS', 'MLT', 'MEX', 'MMR', 'NLD', 'NZL', 'NGA', 'NOR',\n",
       "       'PAK', 'PER', 'PHL', 'POL', 'PRT', 'ROU', 'RUS', 'LCA', 'SGP',\n",
       "       'SVK', 'SVN', 'ZAF', 'KOR', 'ESP', 'LKA', 'SWE', 'CHE', 'TWN',\n",
       "       'THA', 'TTO', 'TUR', 'GBR', 'USA', 'URY', 'VEN', 'VNM'],\n",
       "      dtype=object)"
      ]
     },
     "execution_count": 27,
     "metadata": {},
     "output_type": "execute_result"
    }
   ],
   "source": [
    "df_productivity[\"Code\"].unique()"
   ]
  },
  {
   "cell_type": "code",
   "execution_count": 28,
   "id": "6589e6f1",
   "metadata": {},
   "outputs": [
    {
     "name": "stdout",
     "output_type": "stream",
     "text": [
      "1950 3.1323583\n"
     ]
    }
   ],
   "source": [
    "# test itertuples\n",
    "for row in df_productivity.itertuples():\n",
    "    print(row[-2], row[-1])\n",
    "    break"
   ]
  },
  {
   "cell_type": "code",
   "execution_count": 39,
   "id": "d76ad2e1",
   "metadata": {},
   "outputs": [
    {
     "data": {
      "text/html": [
       "<div>\n",
       "<style scoped>\n",
       "    .dataframe tbody tr th:only-of-type {\n",
       "        vertical-align: middle;\n",
       "    }\n",
       "\n",
       "    .dataframe tbody tr th {\n",
       "        vertical-align: top;\n",
       "    }\n",
       "\n",
       "    .dataframe thead th {\n",
       "        text-align: right;\n",
       "    }\n",
       "</style>\n",
       "<table border=\"1\" class=\"dataframe\">\n",
       "  <thead>\n",
       "    <tr style=\"text-align: right;\">\n",
       "      <th></th>\n",
       "      <th>Entity</th>\n",
       "      <th>Code</th>\n",
       "      <th>1950</th>\n",
       "      <th>1951</th>\n",
       "      <th>1952</th>\n",
       "      <th>1953</th>\n",
       "      <th>1954</th>\n",
       "      <th>1955</th>\n",
       "      <th>1956</th>\n",
       "      <th>1957</th>\n",
       "      <th>...</th>\n",
       "      <th>2008</th>\n",
       "      <th>2009</th>\n",
       "      <th>2010</th>\n",
       "      <th>2011</th>\n",
       "      <th>2012</th>\n",
       "      <th>2013</th>\n",
       "      <th>2014</th>\n",
       "      <th>2015</th>\n",
       "      <th>2016</th>\n",
       "      <th>2017</th>\n",
       "    </tr>\n",
       "  </thead>\n",
       "  <tbody>\n",
       "    <tr>\n",
       "      <th>0</th>\n",
       "      <td>Argentina</td>\n",
       "      <td>ARG</td>\n",
       "      <td>3.132358</td>\n",
       "      <td>3.153722</td>\n",
       "      <td>2.827533</td>\n",
       "      <td>2.963201</td>\n",
       "      <td>3.045096</td>\n",
       "      <td>3.210046</td>\n",
       "      <td>3.244251</td>\n",
       "      <td>3.362723</td>\n",
       "      <td>...</td>\n",
       "      <td>19.550049</td>\n",
       "      <td>18.543003</td>\n",
       "      <td>20.230000</td>\n",
       "      <td>21.449110</td>\n",
       "      <td>21.437298</td>\n",
       "      <td>21.548719</td>\n",
       "      <td>21.150030</td>\n",
       "      <td>21.299370</td>\n",
       "      <td>21.183163</td>\n",
       "      <td>21.749641</td>\n",
       "    </tr>\n",
       "    <tr>\n",
       "      <th>1</th>\n",
       "      <td>Australia</td>\n",
       "      <td>AUS</td>\n",
       "      <td>13.322768</td>\n",
       "      <td>12.820562</td>\n",
       "      <td>12.497678</td>\n",
       "      <td>14.030227</td>\n",
       "      <td>14.992547</td>\n",
       "      <td>15.641343</td>\n",
       "      <td>15.745474</td>\n",
       "      <td>15.792577</td>\n",
       "      <td>...</td>\n",
       "      <td>47.303570</td>\n",
       "      <td>47.501831</td>\n",
       "      <td>50.503040</td>\n",
       "      <td>52.322773</td>\n",
       "      <td>52.503056</td>\n",
       "      <td>53.549725</td>\n",
       "      <td>54.280880</td>\n",
       "      <td>51.537594</td>\n",
       "      <td>54.122646</td>\n",
       "      <td>54.590942</td>\n",
       "    </tr>\n",
       "    <tr>\n",
       "      <th>2</th>\n",
       "      <td>Austria</td>\n",
       "      <td>AUT</td>\n",
       "      <td>5.969629</td>\n",
       "      <td>6.162632</td>\n",
       "      <td>6.479048</td>\n",
       "      <td>6.885874</td>\n",
       "      <td>7.186485</td>\n",
       "      <td>7.525800</td>\n",
       "      <td>7.841809</td>\n",
       "      <td>8.081752</td>\n",
       "      <td>...</td>\n",
       "      <td>49.313515</td>\n",
       "      <td>48.581207</td>\n",
       "      <td>49.893505</td>\n",
       "      <td>50.874996</td>\n",
       "      <td>52.943409</td>\n",
       "      <td>52.703903</td>\n",
       "      <td>54.838917</td>\n",
       "      <td>56.620911</td>\n",
       "      <td>56.392387</td>\n",
       "      <td>57.436661</td>\n",
       "    </tr>\n",
       "    <tr>\n",
       "      <th>3</th>\n",
       "      <td>Bangladesh</td>\n",
       "      <td>BGD</td>\n",
       "      <td>NaN</td>\n",
       "      <td>NaN</td>\n",
       "      <td>NaN</td>\n",
       "      <td>NaN</td>\n",
       "      <td>NaN</td>\n",
       "      <td>NaN</td>\n",
       "      <td>NaN</td>\n",
       "      <td>NaN</td>\n",
       "      <td>...</td>\n",
       "      <td>2.506240</td>\n",
       "      <td>2.650316</td>\n",
       "      <td>2.944530</td>\n",
       "      <td>3.264759</td>\n",
       "      <td>3.162133</td>\n",
       "      <td>3.360770</td>\n",
       "      <td>3.491649</td>\n",
       "      <td>3.657856</td>\n",
       "      <td>3.754542</td>\n",
       "      <td>3.973988</td>\n",
       "    </tr>\n",
       "    <tr>\n",
       "      <th>4</th>\n",
       "      <td>Barbados</td>\n",
       "      <td>BRB</td>\n",
       "      <td>NaN</td>\n",
       "      <td>NaN</td>\n",
       "      <td>NaN</td>\n",
       "      <td>NaN</td>\n",
       "      <td>NaN</td>\n",
       "      <td>NaN</td>\n",
       "      <td>NaN</td>\n",
       "      <td>NaN</td>\n",
       "      <td>...</td>\n",
       "      <td>NaN</td>\n",
       "      <td>NaN</td>\n",
       "      <td>NaN</td>\n",
       "      <td>NaN</td>\n",
       "      <td>NaN</td>\n",
       "      <td>NaN</td>\n",
       "      <td>NaN</td>\n",
       "      <td>NaN</td>\n",
       "      <td>NaN</td>\n",
       "      <td>NaN</td>\n",
       "    </tr>\n",
       "  </tbody>\n",
       "</table>\n",
       "<p>5 rows × 70 columns</p>\n",
       "</div>"
      ],
      "text/plain": [
       "       Entity Code       1950       1951       1952       1953       1954  \\\n",
       "0   Argentina  ARG   3.132358   3.153722   2.827533   2.963201   3.045096   \n",
       "1   Australia  AUS  13.322768  12.820562  12.497678  14.030227  14.992547   \n",
       "2     Austria  AUT   5.969629   6.162632   6.479048   6.885874   7.186485   \n",
       "3  Bangladesh  BGD        NaN        NaN        NaN        NaN        NaN   \n",
       "4    Barbados  BRB        NaN        NaN        NaN        NaN        NaN   \n",
       "\n",
       "        1955       1956       1957  ...       2008       2009       2010  \\\n",
       "0   3.210046   3.244251   3.362723  ...  19.550049  18.543003  20.230000   \n",
       "1  15.641343  15.745474  15.792577  ...  47.303570  47.501831  50.503040   \n",
       "2   7.525800   7.841809   8.081752  ...  49.313515  48.581207  49.893505   \n",
       "3        NaN        NaN        NaN  ...   2.506240   2.650316   2.944530   \n",
       "4        NaN        NaN        NaN  ...        NaN        NaN        NaN   \n",
       "\n",
       "        2011       2012       2013       2014       2015       2016       2017  \n",
       "0  21.449110  21.437298  21.548719  21.150030  21.299370  21.183163  21.749641  \n",
       "1  52.322773  52.503056  53.549725  54.280880  51.537594  54.122646  54.590942  \n",
       "2  50.874996  52.943409  52.703903  54.838917  56.620911  56.392387  57.436661  \n",
       "3   3.264759   3.162133   3.360770   3.491649   3.657856   3.754542   3.973988  \n",
       "4        NaN        NaN        NaN        NaN        NaN        NaN        NaN  \n",
       "\n",
       "[5 rows x 70 columns]"
      ]
     },
     "execution_count": 39,
     "metadata": {},
     "output_type": "execute_result"
    }
   ],
   "source": [
    "# create transposed dataframe for flourish viz\n",
    "df_prod_trans = pd.DataFrame(columns=[\"Entity\", \"Code\"]+[str(year) for year in range(min_year, max_year+1)])\n",
    "for cur_code in df_productivity[\"Code\"].unique():\n",
    "    cur_row = {\"Code\": cur_code}\n",
    "    cur_df = df_productivity[df_productivity[\"Code\"] == cur_code]\n",
    "    cur_row[\"Entity\"] = cur_df.iloc[0][0]\n",
    "    for row in cur_df.itertuples():\n",
    "        cur_year = str(row[-2])\n",
    "        cur_productivity = row[-1]\n",
    "        cur_row[cur_year] = cur_productivity\n",
    "    df_prod_trans = df_prod_trans.append(cur_row, ignore_index=True)\n",
    "    \n",
    "df_prod_trans.head()"
   ]
  },
  {
   "cell_type": "code",
   "execution_count": 40,
   "id": "319d98c2",
   "metadata": {},
   "outputs": [
    {
     "data": {
      "text/html": [
       "<div>\n",
       "<style scoped>\n",
       "    .dataframe tbody tr th:only-of-type {\n",
       "        vertical-align: middle;\n",
       "    }\n",
       "\n",
       "    .dataframe tbody tr th {\n",
       "        vertical-align: top;\n",
       "    }\n",
       "\n",
       "    .dataframe thead th {\n",
       "        text-align: right;\n",
       "    }\n",
       "</style>\n",
       "<table border=\"1\" class=\"dataframe\">\n",
       "  <thead>\n",
       "    <tr style=\"text-align: right;\">\n",
       "      <th></th>\n",
       "      <th>1950</th>\n",
       "      <th>1951</th>\n",
       "      <th>1952</th>\n",
       "      <th>1953</th>\n",
       "      <th>1954</th>\n",
       "      <th>1955</th>\n",
       "      <th>1956</th>\n",
       "      <th>1957</th>\n",
       "      <th>1958</th>\n",
       "      <th>1959</th>\n",
       "      <th>...</th>\n",
       "      <th>2008</th>\n",
       "      <th>2009</th>\n",
       "      <th>2010</th>\n",
       "      <th>2011</th>\n",
       "      <th>2012</th>\n",
       "      <th>2013</th>\n",
       "      <th>2014</th>\n",
       "      <th>2015</th>\n",
       "      <th>2016</th>\n",
       "      <th>2017</th>\n",
       "    </tr>\n",
       "  </thead>\n",
       "  <tbody>\n",
       "    <tr>\n",
       "      <th>count</th>\n",
       "      <td>25.000000</td>\n",
       "      <td>28.000000</td>\n",
       "      <td>28.000000</td>\n",
       "      <td>29.000000</td>\n",
       "      <td>29.000000</td>\n",
       "      <td>29.000000</td>\n",
       "      <td>29.000000</td>\n",
       "      <td>29.000000</td>\n",
       "      <td>29.000000</td>\n",
       "      <td>29.000000</td>\n",
       "      <td>...</td>\n",
       "      <td>65.000000</td>\n",
       "      <td>65.000000</td>\n",
       "      <td>66.000000</td>\n",
       "      <td>66.000000</td>\n",
       "      <td>66.000000</td>\n",
       "      <td>66.000000</td>\n",
       "      <td>66.000000</td>\n",
       "      <td>66.000000</td>\n",
       "      <td>66.000000</td>\n",
       "      <td>66.000000</td>\n",
       "    </tr>\n",
       "    <tr>\n",
       "      <th>mean</th>\n",
       "      <td>7.164083</td>\n",
       "      <td>7.003300</td>\n",
       "      <td>7.220708</td>\n",
       "      <td>7.324647</td>\n",
       "      <td>7.668026</td>\n",
       "      <td>8.031511</td>\n",
       "      <td>8.285794</td>\n",
       "      <td>8.573211</td>\n",
       "      <td>8.785915</td>\n",
       "      <td>9.174633</td>\n",
       "      <td>...</td>\n",
       "      <td>30.121663</td>\n",
       "      <td>29.550698</td>\n",
       "      <td>30.832997</td>\n",
       "      <td>31.941404</td>\n",
       "      <td>32.646010</td>\n",
       "      <td>33.011171</td>\n",
       "      <td>33.348486</td>\n",
       "      <td>33.531386</td>\n",
       "      <td>33.750087</td>\n",
       "      <td>34.646334</td>\n",
       "    </tr>\n",
       "    <tr>\n",
       "      <th>std</th>\n",
       "      <td>4.034990</td>\n",
       "      <td>4.029012</td>\n",
       "      <td>4.088501</td>\n",
       "      <td>4.374990</td>\n",
       "      <td>4.536983</td>\n",
       "      <td>4.764615</td>\n",
       "      <td>4.889392</td>\n",
       "      <td>4.984511</td>\n",
       "      <td>5.129916</td>\n",
       "      <td>5.408320</td>\n",
       "      <td>...</td>\n",
       "      <td>20.067956</td>\n",
       "      <td>18.921720</td>\n",
       "      <td>19.783492</td>\n",
       "      <td>20.432356</td>\n",
       "      <td>20.755465</td>\n",
       "      <td>20.711942</td>\n",
       "      <td>20.489393</td>\n",
       "      <td>20.496675</td>\n",
       "      <td>20.706076</td>\n",
       "      <td>21.226185</td>\n",
       "    </tr>\n",
       "    <tr>\n",
       "      <th>min</th>\n",
       "      <td>2.018346</td>\n",
       "      <td>1.672915</td>\n",
       "      <td>1.829535</td>\n",
       "      <td>1.436390</td>\n",
       "      <td>1.456806</td>\n",
       "      <td>1.533823</td>\n",
       "      <td>1.538680</td>\n",
       "      <td>1.648172</td>\n",
       "      <td>1.671577</td>\n",
       "      <td>1.666843</td>\n",
       "      <td>...</td>\n",
       "      <td>1.761451</td>\n",
       "      <td>1.665147</td>\n",
       "      <td>1.731800</td>\n",
       "      <td>1.839789</td>\n",
       "      <td>1.941693</td>\n",
       "      <td>2.154728</td>\n",
       "      <td>2.162902</td>\n",
       "      <td>2.260382</td>\n",
       "      <td>2.172024</td>\n",
       "      <td>2.244142</td>\n",
       "    </tr>\n",
       "    <tr>\n",
       "      <th>25%</th>\n",
       "      <td>4.266608</td>\n",
       "      <td>4.170692</td>\n",
       "      <td>4.279446</td>\n",
       "      <td>3.985670</td>\n",
       "      <td>3.898234</td>\n",
       "      <td>4.017075</td>\n",
       "      <td>4.214442</td>\n",
       "      <td>4.539720</td>\n",
       "      <td>4.753748</td>\n",
       "      <td>4.953836</td>\n",
       "      <td>...</td>\n",
       "      <td>15.835861</td>\n",
       "      <td>15.435143</td>\n",
       "      <td>15.372905</td>\n",
       "      <td>16.714596</td>\n",
       "      <td>16.709572</td>\n",
       "      <td>17.168550</td>\n",
       "      <td>16.983430</td>\n",
       "      <td>17.146252</td>\n",
       "      <td>17.058077</td>\n",
       "      <td>16.934655</td>\n",
       "    </tr>\n",
       "    <tr>\n",
       "      <th>50%</th>\n",
       "      <td>6.633444</td>\n",
       "      <td>6.216299</td>\n",
       "      <td>6.419776</td>\n",
       "      <td>6.231276</td>\n",
       "      <td>6.867972</td>\n",
       "      <td>7.365178</td>\n",
       "      <td>7.431048</td>\n",
       "      <td>7.370864</td>\n",
       "      <td>7.502350</td>\n",
       "      <td>8.150012</td>\n",
       "      <td>...</td>\n",
       "      <td>27.551277</td>\n",
       "      <td>27.826616</td>\n",
       "      <td>28.576334</td>\n",
       "      <td>28.482712</td>\n",
       "      <td>29.305626</td>\n",
       "      <td>29.808742</td>\n",
       "      <td>29.573248</td>\n",
       "      <td>31.400841</td>\n",
       "      <td>31.117968</td>\n",
       "      <td>32.801818</td>\n",
       "    </tr>\n",
       "    <tr>\n",
       "      <th>75%</th>\n",
       "      <td>9.313578</td>\n",
       "      <td>9.428649</td>\n",
       "      <td>9.559416</td>\n",
       "      <td>10.025637</td>\n",
       "      <td>10.345760</td>\n",
       "      <td>10.744579</td>\n",
       "      <td>11.217801</td>\n",
       "      <td>11.658480</td>\n",
       "      <td>11.903381</td>\n",
       "      <td>12.274018</td>\n",
       "      <td>...</td>\n",
       "      <td>46.087280</td>\n",
       "      <td>44.566868</td>\n",
       "      <td>46.436723</td>\n",
       "      <td>47.050042</td>\n",
       "      <td>48.178247</td>\n",
       "      <td>47.693014</td>\n",
       "      <td>47.855872</td>\n",
       "      <td>48.565759</td>\n",
       "      <td>48.567639</td>\n",
       "      <td>49.269856</td>\n",
       "    </tr>\n",
       "    <tr>\n",
       "      <th>max</th>\n",
       "      <td>18.140602</td>\n",
       "      <td>18.428661</td>\n",
       "      <td>18.856224</td>\n",
       "      <td>19.512449</td>\n",
       "      <td>20.034237</td>\n",
       "      <td>20.884556</td>\n",
       "      <td>21.015562</td>\n",
       "      <td>21.663401</td>\n",
       "      <td>22.211279</td>\n",
       "      <td>23.010408</td>\n",
       "      <td>...</td>\n",
       "      <td>103.750400</td>\n",
       "      <td>89.443871</td>\n",
       "      <td>96.927681</td>\n",
       "      <td>105.885890</td>\n",
       "      <td>109.772140</td>\n",
       "      <td>107.972210</td>\n",
       "      <td>99.664436</td>\n",
       "      <td>91.498856</td>\n",
       "      <td>96.044075</td>\n",
       "      <td>99.129036</td>\n",
       "    </tr>\n",
       "  </tbody>\n",
       "</table>\n",
       "<p>8 rows × 68 columns</p>\n",
       "</div>"
      ],
      "text/plain": [
       "            1950       1951       1952       1953       1954       1955  \\\n",
       "count  25.000000  28.000000  28.000000  29.000000  29.000000  29.000000   \n",
       "mean    7.164083   7.003300   7.220708   7.324647   7.668026   8.031511   \n",
       "std     4.034990   4.029012   4.088501   4.374990   4.536983   4.764615   \n",
       "min     2.018346   1.672915   1.829535   1.436390   1.456806   1.533823   \n",
       "25%     4.266608   4.170692   4.279446   3.985670   3.898234   4.017075   \n",
       "50%     6.633444   6.216299   6.419776   6.231276   6.867972   7.365178   \n",
       "75%     9.313578   9.428649   9.559416  10.025637  10.345760  10.744579   \n",
       "max    18.140602  18.428661  18.856224  19.512449  20.034237  20.884556   \n",
       "\n",
       "            1956       1957       1958       1959  ...        2008       2009  \\\n",
       "count  29.000000  29.000000  29.000000  29.000000  ...   65.000000  65.000000   \n",
       "mean    8.285794   8.573211   8.785915   9.174633  ...   30.121663  29.550698   \n",
       "std     4.889392   4.984511   5.129916   5.408320  ...   20.067956  18.921720   \n",
       "min     1.538680   1.648172   1.671577   1.666843  ...    1.761451   1.665147   \n",
       "25%     4.214442   4.539720   4.753748   4.953836  ...   15.835861  15.435143   \n",
       "50%     7.431048   7.370864   7.502350   8.150012  ...   27.551277  27.826616   \n",
       "75%    11.217801  11.658480  11.903381  12.274018  ...   46.087280  44.566868   \n",
       "max    21.015562  21.663401  22.211279  23.010408  ...  103.750400  89.443871   \n",
       "\n",
       "            2010        2011        2012        2013       2014       2015  \\\n",
       "count  66.000000   66.000000   66.000000   66.000000  66.000000  66.000000   \n",
       "mean   30.832997   31.941404   32.646010   33.011171  33.348486  33.531386   \n",
       "std    19.783492   20.432356   20.755465   20.711942  20.489393  20.496675   \n",
       "min     1.731800    1.839789    1.941693    2.154728   2.162902   2.260382   \n",
       "25%    15.372905   16.714596   16.709572   17.168550  16.983430  17.146252   \n",
       "50%    28.576334   28.482712   29.305626   29.808742  29.573248  31.400841   \n",
       "75%    46.436723   47.050042   48.178247   47.693014  47.855872  48.565759   \n",
       "max    96.927681  105.885890  109.772140  107.972210  99.664436  91.498856   \n",
       "\n",
       "            2016       2017  \n",
       "count  66.000000  66.000000  \n",
       "mean   33.750087  34.646334  \n",
       "std    20.706076  21.226185  \n",
       "min     2.172024   2.244142  \n",
       "25%    17.058077  16.934655  \n",
       "50%    31.117968  32.801818  \n",
       "75%    48.567639  49.269856  \n",
       "max    96.044075  99.129036  \n",
       "\n",
       "[8 rows x 68 columns]"
      ]
     },
     "execution_count": 40,
     "metadata": {},
     "output_type": "execute_result"
    }
   ],
   "source": [
    "df_prod_trans.describe()"
   ]
  },
  {
   "cell_type": "code",
   "execution_count": 41,
   "id": "49826653",
   "metadata": {},
   "outputs": [],
   "source": [
    "df_prod_trans.to_csv(\"productivity_transposed.csv\", index=False)"
   ]
  },
  {
   "cell_type": "code",
   "execution_count": 21,
   "id": "5d261e81",
   "metadata": {},
   "outputs": [
    {
     "data": {
      "text/html": [
       "<div>\n",
       "<style scoped>\n",
       "    .dataframe tbody tr th:only-of-type {\n",
       "        vertical-align: middle;\n",
       "    }\n",
       "\n",
       "    .dataframe tbody tr th {\n",
       "        vertical-align: top;\n",
       "    }\n",
       "\n",
       "    .dataframe thead th {\n",
       "        text-align: right;\n",
       "    }\n",
       "</style>\n",
       "<table border=\"1\" class=\"dataframe\">\n",
       "  <thead>\n",
       "    <tr style=\"text-align: right;\">\n",
       "      <th></th>\n",
       "      <th>Year</th>\n",
       "      <th>Productivity (PWT 9.1 (2019))</th>\n",
       "    </tr>\n",
       "  </thead>\n",
       "  <tbody>\n",
       "    <tr>\n",
       "      <th>count</th>\n",
       "      <td>269.000000</td>\n",
       "      <td>269.000000</td>\n",
       "    </tr>\n",
       "    <tr>\n",
       "      <th>mean</th>\n",
       "      <td>1986.895911</td>\n",
       "      <td>23.227833</td>\n",
       "    </tr>\n",
       "    <tr>\n",
       "      <th>std</th>\n",
       "      <td>19.409480</td>\n",
       "      <td>17.142013</td>\n",
       "    </tr>\n",
       "    <tr>\n",
       "      <th>min</th>\n",
       "      <td>1950.000000</td>\n",
       "      <td>1.617420</td>\n",
       "    </tr>\n",
       "    <tr>\n",
       "      <th>25%</th>\n",
       "      <td>1971.000000</td>\n",
       "      <td>7.219017</td>\n",
       "    </tr>\n",
       "    <tr>\n",
       "      <th>50%</th>\n",
       "      <td>1988.000000</td>\n",
       "      <td>19.685320</td>\n",
       "    </tr>\n",
       "    <tr>\n",
       "      <th>75%</th>\n",
       "      <td>2004.000000</td>\n",
       "      <td>36.038780</td>\n",
       "    </tr>\n",
       "    <tr>\n",
       "      <th>max</th>\n",
       "      <td>2017.000000</td>\n",
       "      <td>65.512207</td>\n",
       "    </tr>\n",
       "  </tbody>\n",
       "</table>\n",
       "</div>"
      ],
      "text/plain": [
       "              Year  Productivity (PWT 9.1 (2019))\n",
       "count   269.000000                     269.000000\n",
       "mean   1986.895911                      23.227833\n",
       "std      19.409480                      17.142013\n",
       "min    1950.000000                       1.617420\n",
       "25%    1971.000000                       7.219017\n",
       "50%    1988.000000                      19.685320\n",
       "75%    2004.000000                      36.038780\n",
       "max    2017.000000                      65.512207"
      ]
     },
     "execution_count": 21,
     "metadata": {},
     "output_type": "execute_result"
    }
   ],
   "source": [
    "# Static visualization for selected countries\n",
    "interested_entities = [\"United States\", \"Japan\", \"Zambia\", \"Australia\", \"China\", \"Spain\", \"Brazil\"]\n",
    "df_productivity_filtered = df_productivity[df_productivity[\"Entity\"].isin(interested_entities)]\n",
    "df_productivity_filtered.describe()"
   ]
  },
  {
   "cell_type": "code",
   "execution_count": 22,
   "id": "91fd0428",
   "metadata": {},
   "outputs": [
    {
     "data": {
      "text/plain": [
       "<AxesSubplot:xlabel='Year', ylabel='Productivity (PWT 9.1 (2019))'>"
      ]
     },
     "execution_count": 22,
     "metadata": {},
     "output_type": "execute_result"
    },
    {
     "data": {
      "image/png": "[encoded data removed]",
      "text/plain": [
       "<Figure size 432x288 with 1 Axes>"
      ]
     },
     "metadata": {
      "needs_background": "light"
     },
     "output_type": "display_data"
    }
   ],
   "source": [
    "sns.lineplot(data=df_productivity_filtered, x=\"Year\", y=\"Productivity (PWT 9.1 (2019))\", hue=\"Entity\")"
   ]
  },
  {
   "cell_type": "markdown",
   "id": "b08b7e2d",
   "metadata": {},
   "source": [
    "## Connectiveness"
   ]
  },
  {
   "cell_type": "code",
   "execution_count": 32,
   "id": "67d97b65",
   "metadata": {},
   "outputs": [
    {
     "data": {
      "text/html": [
       "<div>\n",
       "<style scoped>\n",
       "    .dataframe tbody tr th:only-of-type {\n",
       "        vertical-align: middle;\n",
       "    }\n",
       "\n",
       "    .dataframe tbody tr th {\n",
       "        vertical-align: top;\n",
       "    }\n",
       "\n",
       "    .dataframe thead th {\n",
       "        text-align: right;\n",
       "    }\n",
       "</style>\n",
       "<table border=\"1\" class=\"dataframe\">\n",
       "  <thead>\n",
       "    <tr style=\"text-align: right;\">\n",
       "      <th></th>\n",
       "      <th>user_loc</th>\n",
       "      <th>fr_loc</th>\n",
       "      <th>scaled_sci</th>\n",
       "    </tr>\n",
       "  </thead>\n",
       "  <tbody>\n",
       "    <tr>\n",
       "      <th>0</th>\n",
       "      <td>AE</td>\n",
       "      <td>AE</td>\n",
       "      <td>1117179</td>\n",
       "    </tr>\n",
       "    <tr>\n",
       "      <th>1</th>\n",
       "      <td>AE</td>\n",
       "      <td>AF</td>\n",
       "      <td>161618</td>\n",
       "    </tr>\n",
       "    <tr>\n",
       "      <th>2</th>\n",
       "      <td>AE</td>\n",
       "      <td>AG</td>\n",
       "      <td>5488</td>\n",
       "    </tr>\n",
       "    <tr>\n",
       "      <th>3</th>\n",
       "      <td>AE</td>\n",
       "      <td>AL</td>\n",
       "      <td>2101</td>\n",
       "    </tr>\n",
       "    <tr>\n",
       "      <th>4</th>\n",
       "      <td>AE</td>\n",
       "      <td>AM</td>\n",
       "      <td>3580</td>\n",
       "    </tr>\n",
       "  </tbody>\n",
       "</table>\n",
       "</div>"
      ],
      "text/plain": [
       "  user_loc fr_loc  scaled_sci\n",
       "0       AE     AE     1117179\n",
       "1       AE     AF      161618\n",
       "2       AE     AG        5488\n",
       "3       AE     AL        2101\n",
       "4       AE     AM        3580"
      ]
     },
     "execution_count": 32,
     "metadata": {},
     "output_type": "execute_result"
    }
   ],
   "source": [
    "# Facebook connectiveness dataset\n",
    "df_connect = pd.read_csv(\"fb_connect.tsv\", sep=\"\\t\")\n",
    "df_connect.head()"
   ]
  },
  {
   "cell_type": "code",
   "execution_count": 33,
   "id": "558e3305",
   "metadata": {},
   "outputs": [
    {
     "data": {
      "text/plain": [
       "34596"
      ]
     },
     "execution_count": 33,
     "metadata": {},
     "output_type": "execute_result"
    }
   ],
   "source": [
    "len(df_connect)"
   ]
  },
  {
   "cell_type": "code",
   "execution_count": 34,
   "id": "4843ecb9",
   "metadata": {},
   "outputs": [
    {
     "data": {
      "text/plain": [
       "user_loc      186\n",
       "fr_loc        186\n",
       "scaled_sci      0\n",
       "dtype: int64"
      ]
     },
     "execution_count": 34,
     "metadata": {},
     "output_type": "execute_result"
    }
   ],
   "source": [
    "df_connect.isna().sum()"
   ]
  },
  {
   "cell_type": "code",
   "execution_count": 35,
   "id": "4f6ff81b",
   "metadata": {},
   "outputs": [
    {
     "data": {
      "text/html": [
       "<div>\n",
       "<style scoped>\n",
       "    .dataframe tbody tr th:only-of-type {\n",
       "        vertical-align: middle;\n",
       "    }\n",
       "\n",
       "    .dataframe tbody tr th {\n",
       "        vertical-align: top;\n",
       "    }\n",
       "\n",
       "    .dataframe thead th {\n",
       "        text-align: right;\n",
       "    }\n",
       "</style>\n",
       "<table border=\"1\" class=\"dataframe\">\n",
       "  <thead>\n",
       "    <tr style=\"text-align: right;\">\n",
       "      <th></th>\n",
       "      <th>user_loc</th>\n",
       "      <th>fr_loc</th>\n",
       "      <th>scaled_sci</th>\n",
       "    </tr>\n",
       "  </thead>\n",
       "  <tbody>\n",
       "    <tr>\n",
       "      <th>22878</th>\n",
       "      <td>NaN</td>\n",
       "      <td>AE</td>\n",
       "      <td>5605</td>\n",
       "    </tr>\n",
       "    <tr>\n",
       "      <th>22879</th>\n",
       "      <td>NaN</td>\n",
       "      <td>AF</td>\n",
       "      <td>1294</td>\n",
       "    </tr>\n",
       "    <tr>\n",
       "      <th>22880</th>\n",
       "      <td>NaN</td>\n",
       "      <td>AG</td>\n",
       "      <td>15247</td>\n",
       "    </tr>\n",
       "    <tr>\n",
       "      <th>22881</th>\n",
       "      <td>NaN</td>\n",
       "      <td>AL</td>\n",
       "      <td>774</td>\n",
       "    </tr>\n",
       "    <tr>\n",
       "      <th>22882</th>\n",
       "      <td>NaN</td>\n",
       "      <td>AM</td>\n",
       "      <td>494</td>\n",
       "    </tr>\n",
       "    <tr>\n",
       "      <th>...</th>\n",
       "      <td>...</td>\n",
       "      <td>...</td>\n",
       "      <td>...</td>\n",
       "    </tr>\n",
       "    <tr>\n",
       "      <th>23059</th>\n",
       "      <td>NaN</td>\n",
       "      <td>XK</td>\n",
       "      <td>1398</td>\n",
       "    </tr>\n",
       "    <tr>\n",
       "      <th>23060</th>\n",
       "      <td>NaN</td>\n",
       "      <td>YT</td>\n",
       "      <td>6990</td>\n",
       "    </tr>\n",
       "    <tr>\n",
       "      <th>23061</th>\n",
       "      <td>NaN</td>\n",
       "      <td>ZA</td>\n",
       "      <td>75888</td>\n",
       "    </tr>\n",
       "    <tr>\n",
       "      <th>23062</th>\n",
       "      <td>NaN</td>\n",
       "      <td>ZM</td>\n",
       "      <td>113449</td>\n",
       "    </tr>\n",
       "    <tr>\n",
       "      <th>23063</th>\n",
       "      <td>NaN</td>\n",
       "      <td>ZW</td>\n",
       "      <td>270432</td>\n",
       "    </tr>\n",
       "  </tbody>\n",
       "</table>\n",
       "<p>186 rows × 3 columns</p>\n",
       "</div>"
      ],
      "text/plain": [
       "      user_loc fr_loc  scaled_sci\n",
       "22878      NaN     AE        5605\n",
       "22879      NaN     AF        1294\n",
       "22880      NaN     AG       15247\n",
       "22881      NaN     AL         774\n",
       "22882      NaN     AM         494\n",
       "...        ...    ...         ...\n",
       "23059      NaN     XK        1398\n",
       "23060      NaN     YT        6990\n",
       "23061      NaN     ZA       75888\n",
       "23062      NaN     ZM      113449\n",
       "23063      NaN     ZW      270432\n",
       "\n",
       "[186 rows x 3 columns]"
      ]
     },
     "execution_count": 35,
     "metadata": {},
     "output_type": "execute_result"
    }
   ],
   "source": [
    "df_connect[df_connect[\"user_loc\"].isna()]"
   ]
  },
  {
   "cell_type": "code",
   "execution_count": 36,
   "id": "ca2f0eb7",
   "metadata": {},
   "outputs": [
    {
     "name": "stdout",
     "output_type": "stream",
     "text": [
      "249\n"
     ]
    }
   ],
   "source": [
    "# credit: https://github.com/pageflt/iso-country-codes\n",
    "from iso_country_codes import CC \n",
    "print(len(CC))"
   ]
  },
  {
   "cell_type": "code",
   "execution_count": 37,
   "id": "8aba22b5",
   "metadata": {},
   "outputs": [
    {
     "data": {
      "text/plain": [
       "33856"
      ]
     },
     "execution_count": 37,
     "metadata": {},
     "output_type": "execute_result"
    }
   ],
   "source": [
    "# remove locations with NaN (rare entries) and rare countries not included in CC\n",
    "df_connect_clean = df_connect.dropna(how=\"any\")\n",
    "country_codes = CC.keys()\n",
    "df_connect_clean = df_connect_clean[df_connect_clean[\"user_loc\"].isin(country_codes) \n",
    "                                    & df_connect_clean[\"fr_loc\"].isin(country_codes)]\n",
    "len(df_connect_clean)"
   ]
  },
  {
   "cell_type": "code",
   "execution_count": 39,
   "id": "0d75c1a8",
   "metadata": {},
   "outputs": [],
   "source": [
    "# save cleaned checkpoint\n",
    "df_connect_clean.to_csv(\"fb_connect_clean.csv\", index=False)"
   ]
  },
  {
   "cell_type": "code",
   "execution_count": 40,
   "id": "02eccc83",
   "metadata": {},
   "outputs": [],
   "source": [
    "def capitalize(s):\n",
    "    return s[0].upper() + s[1:].lower()"
   ]
  },
  {
   "cell_type": "code",
   "execution_count": 42,
   "id": "ab7cff80",
   "metadata": {},
   "outputs": [
    {
     "name": "stderr",
     "output_type": "stream",
     "text": [
      "<ipython-input-42-c59d5cf46c78>:14: SettingWithCopyWarning: \n",
      "A value is trying to be set on a copy of a slice from a DataFrame.\n",
      "Try using .loc[row_indexer,col_indexer] = value instead\n",
      "\n",
      "See the caveats in the documentation: https://pandas.pydata.org/pandas-docs/stable/user_guide/indexing.html#returning-a-view-versus-a-copy\n",
      "  df_connect_selected[\"categories\"] = df_connect_selected[\"user_loc\"].apply(lambda iso2:  capitalize(CC[iso2]))\n"
     ]
    }
   ],
   "source": [
    "top_economies = [\"US\", \"CN\", \"JP\", \"DE\", \"GB\", \n",
    "                 \"IN\", \"FR\", \"BR\", \"CA\", \"AU\", \n",
    "                 \"KR\", \"RU\", \"ZA\", \"NG\", \"ES\"]\n",
    "# df_connect_selected_1 = df_connect_clean[df_connect_clean[\"user_loc\"].isin(top_economies)]\n",
    "# df_connect_selected_1[\"categories\"] = df_connect_selected_1[\"user_loc\"].apply(lambda iso2:  \"From \" + capitalize(CC[iso2]))\n",
    "# df_connect_selected_2 = df_connect_clean[df_connect_clean[\"fr_loc\"].isin(top_economies)]\n",
    "# df_connect_selected_2[\"categories\"] = df_connect_selected_2[\"fr_loc\"].apply(lambda iso2: \"To \" + capitalize(CC[iso2]))\n",
    "# df_connect_selected = df_connect_selected_1.append(df_connect_selected_2, ignore_index=True).sort_values(by=[\"categories\", \"scaled_sci\"], ascending=False).reset_index(drop=True)\n",
    "# df_connect_selected.head()\n",
    "\n",
    "# From & To locations are the symmetric, since facebook connections are mutual\n",
    "df_connect_selected = df_connect_clean[df_connect_clean[\"user_loc\"].isin(top_economies)]\n",
    "# categories created for better flourish viz\n",
    "df_connect_selected[\"categories\"] = df_connect_selected[\"user_loc\"].apply(lambda iso2:  capitalize(CC[iso2]))"
   ]
  },
  {
   "cell_type": "code",
   "execution_count": 43,
   "id": "a1111d16",
   "metadata": {},
   "outputs": [],
   "source": [
    "df_connect_selected.to_csv(\"fb_connect_selected.csv\", index=False)"
   ]
  },
  {
   "cell_type": "markdown",
   "id": "0d4ef3d8",
   "metadata": {},
   "source": [
    "## Have Friends"
   ]
  },
  {
   "cell_type": "code",
   "execution_count": 44,
   "id": "8896063b",
   "metadata": {},
   "outputs": [
    {
     "data": {
      "text/html": [
       "<div>\n",
       "<style scoped>\n",
       "    .dataframe tbody tr th:only-of-type {\n",
       "        vertical-align: middle;\n",
       "    }\n",
       "\n",
       "    .dataframe tbody tr th {\n",
       "        vertical-align: top;\n",
       "    }\n",
       "\n",
       "    .dataframe thead th {\n",
       "        text-align: right;\n",
       "    }\n",
       "</style>\n",
       "<table border=\"1\" class=\"dataframe\">\n",
       "  <thead>\n",
       "    <tr style=\"text-align: right;\">\n",
       "      <th></th>\n",
       "      <th>Entity</th>\n",
       "      <th>Code</th>\n",
       "      <th>Year</th>\n",
       "      <th>People who report having friends or relatives they can count on</th>\n",
       "    </tr>\n",
       "  </thead>\n",
       "  <tbody>\n",
       "    <tr>\n",
       "      <th>0</th>\n",
       "      <td>Australia</td>\n",
       "      <td>AUS</td>\n",
       "      <td>2016</td>\n",
       "      <td>93.6</td>\n",
       "    </tr>\n",
       "    <tr>\n",
       "      <th>1</th>\n",
       "      <td>Austria</td>\n",
       "      <td>AUT</td>\n",
       "      <td>2016</td>\n",
       "      <td>91.5</td>\n",
       "    </tr>\n",
       "    <tr>\n",
       "      <th>2</th>\n",
       "      <td>Belgium</td>\n",
       "      <td>BEL</td>\n",
       "      <td>2016</td>\n",
       "      <td>91.7</td>\n",
       "    </tr>\n",
       "    <tr>\n",
       "      <th>3</th>\n",
       "      <td>Brazil</td>\n",
       "      <td>BRA</td>\n",
       "      <td>2016</td>\n",
       "      <td>90.1</td>\n",
       "    </tr>\n",
       "    <tr>\n",
       "      <th>4</th>\n",
       "      <td>Canada</td>\n",
       "      <td>CAN</td>\n",
       "      <td>2016</td>\n",
       "      <td>92.6</td>\n",
       "    </tr>\n",
       "  </tbody>\n",
       "</table>\n",
       "</div>"
      ],
      "text/plain": [
       "      Entity Code  Year  \\\n",
       "0  Australia  AUS  2016   \n",
       "1    Austria  AUT  2016   \n",
       "2    Belgium  BEL  2016   \n",
       "3     Brazil  BRA  2016   \n",
       "4     Canada  CAN  2016   \n",
       "\n",
       "   People who report having friends or relatives they can count on  \n",
       "0                                               93.6                \n",
       "1                                               91.5                \n",
       "2                                               91.7                \n",
       "3                                               90.1                \n",
       "4                                               92.6                "
      ]
     },
     "execution_count": 44,
     "metadata": {},
     "output_type": "execute_result"
    }
   ],
   "source": [
    "df_friends = pd.read_csv(\"got_friends.csv\")\n",
    "df_friends.head()"
   ]
  },
  {
   "cell_type": "code",
   "execution_count": 45,
   "id": "43efacd6",
   "metadata": {},
   "outputs": [
    {
     "data": {
      "text/html": [
       "<div>\n",
       "<style scoped>\n",
       "    .dataframe tbody tr th:only-of-type {\n",
       "        vertical-align: middle;\n",
       "    }\n",
       "\n",
       "    .dataframe tbody tr th {\n",
       "        vertical-align: top;\n",
       "    }\n",
       "\n",
       "    .dataframe thead th {\n",
       "        text-align: right;\n",
       "    }\n",
       "</style>\n",
       "<table border=\"1\" class=\"dataframe\">\n",
       "  <thead>\n",
       "    <tr style=\"text-align: right;\">\n",
       "      <th></th>\n",
       "      <th>Year</th>\n",
       "      <th>People who report having friends or relatives they can count on</th>\n",
       "    </tr>\n",
       "  </thead>\n",
       "  <tbody>\n",
       "    <tr>\n",
       "      <th>count</th>\n",
       "      <td>41.0</td>\n",
       "      <td>41.000000</td>\n",
       "    </tr>\n",
       "    <tr>\n",
       "      <th>mean</th>\n",
       "      <td>2016.0</td>\n",
       "      <td>89.797561</td>\n",
       "    </tr>\n",
       "    <tr>\n",
       "      <th>std</th>\n",
       "      <td>0.0</td>\n",
       "      <td>4.483385</td>\n",
       "    </tr>\n",
       "    <tr>\n",
       "      <th>min</th>\n",
       "      <td>2016.0</td>\n",
       "      <td>75.900000</td>\n",
       "    </tr>\n",
       "    <tr>\n",
       "      <th>25%</th>\n",
       "      <td>2016.0</td>\n",
       "      <td>88.300000</td>\n",
       "    </tr>\n",
       "    <tr>\n",
       "      <th>50%</th>\n",
       "      <td>2016.0</td>\n",
       "      <td>90.100000</td>\n",
       "    </tr>\n",
       "    <tr>\n",
       "      <th>75%</th>\n",
       "      <td>2016.0</td>\n",
       "      <td>92.600000</td>\n",
       "    </tr>\n",
       "    <tr>\n",
       "      <th>max</th>\n",
       "      <td>2016.0</td>\n",
       "      <td>98.300000</td>\n",
       "    </tr>\n",
       "  </tbody>\n",
       "</table>\n",
       "</div>"
      ],
      "text/plain": [
       "         Year  People who report having friends or relatives they can count on\n",
       "count    41.0                                          41.000000              \n",
       "mean   2016.0                                          89.797561              \n",
       "std       0.0                                           4.483385              \n",
       "min    2016.0                                          75.900000              \n",
       "25%    2016.0                                          88.300000              \n",
       "50%    2016.0                                          90.100000              \n",
       "75%    2016.0                                          92.600000              \n",
       "max    2016.0                                          98.300000              "
      ]
     },
     "execution_count": 45,
     "metadata": {},
     "output_type": "execute_result"
    }
   ],
   "source": [
    "df_friends.describe()"
   ]
  },
  {
   "cell_type": "code",
   "execution_count": 46,
   "id": "d78af9b4",
   "metadata": {},
   "outputs": [
    {
     "data": {
      "text/plain": [
       "Entity                                                             0\n",
       "Code                                                               0\n",
       "Year                                                               0\n",
       "People who report having friends or relatives they can count on    0\n",
       "dtype: int64"
      ]
     },
     "execution_count": 46,
     "metadata": {},
     "output_type": "execute_result"
    }
   ],
   "source": [
    "df_friends.isna().sum()"
   ]
  },
  {
   "cell_type": "code",
   "execution_count": 4,
   "id": "d5bb383f",
   "metadata": {},
   "outputs": [
    {
     "data": {
      "text/plain": [
       "array([2016], dtype=int64)"
      ]
     },
     "execution_count": 4,
     "metadata": {},
     "output_type": "execute_result"
    }
   ],
   "source": [
    "df_friends[\"Year\"].unique()"
   ]
  },
  {
   "cell_type": "code",
   "execution_count": 47,
   "id": "d24faa5f",
   "metadata": {},
   "outputs": [
    {
     "data": {
      "text/plain": [
       "<AxesSubplot:xlabel='People who report having friends or relatives they can count on', ylabel='Entity'>"
      ]
     },
     "execution_count": 47,
     "metadata": {},
     "output_type": "execute_result"
    },
    {
     "data": {
      "image/png": "[encoded data removed]",
      "text/plain": [
       "<Figure size 432x288 with 1 Axes>"
      ]
     },
     "metadata": {
      "needs_background": "light"
     },
     "output_type": "display_data"
    }
   ],
   "source": [
    "# sufficiently clean dataset for plotting\n",
    "df_friends_sorted = df_friends.sort_values(by=\"People who report having friends or relatives they can count on\", ascending=False)\n",
    "sns.barplot(data=df_friends_sorted.head(10), x=\"People who report having friends or relatives they can count on\", y=\"Entity\", orient=\"h\")"
   ]
  },
  {
   "cell_type": "code",
   "execution_count": 8,
   "id": "9e301929",
   "metadata": {},
   "outputs": [
    {
     "data": {
      "text/plain": [
       "<AxesSubplot:xlabel='People who report having friends or relatives they can count on', ylabel='Entity'>"
      ]
     },
     "execution_count": 8,
     "metadata": {},
     "output_type": "execute_result"
    },
    {
     "data": {
      "image/png": "[encoded data removed]",
      "text/plain": [
       "<Figure size 432x288 with 1 Axes>"
      ]
     },
     "metadata": {
      "needs_background": "light"
     },
     "output_type": "display_data"
    }
   ],
   "source": [
    "sns.barplot(data=df_friends_sorted.tail(10), x=\"People who report having friends or relatives they can count on\", y=\"Entity\", orient=\"h\")"
   ]
  },
  {
   "cell_type": "markdown",
   "id": "bcdba540",
   "metadata": {},
   "source": [
    "## One-Persn Household"
   ]
  },
  {
   "cell_type": "code",
   "execution_count": 50,
   "id": "60846916",
   "metadata": {},
   "outputs": [
    {
     "data": {
      "text/html": [
       "<div>\n",
       "<style scoped>\n",
       "    .dataframe tbody tr th:only-of-type {\n",
       "        vertical-align: middle;\n",
       "    }\n",
       "\n",
       "    .dataframe tbody tr th {\n",
       "        vertical-align: top;\n",
       "    }\n",
       "\n",
       "    .dataframe thead th {\n",
       "        text-align: right;\n",
       "    }\n",
       "</style>\n",
       "<table border=\"1\" class=\"dataframe\">\n",
       "  <thead>\n",
       "    <tr style=\"text-align: right;\">\n",
       "      <th></th>\n",
       "      <th>Entity</th>\n",
       "      <th>Code</th>\n",
       "      <th>Year</th>\n",
       "      <th>Share of one person households</th>\n",
       "      <th>GDP per capita, PPP (constant 2017 international $)</th>\n",
       "      <th>Population (historical estimates)</th>\n",
       "      <th>Continent</th>\n",
       "    </tr>\n",
       "  </thead>\n",
       "  <tbody>\n",
       "    <tr>\n",
       "      <th>0</th>\n",
       "      <td>Abkhazia</td>\n",
       "      <td>OWID_ABK</td>\n",
       "      <td>2015</td>\n",
       "      <td>NaN</td>\n",
       "      <td>NaN</td>\n",
       "      <td>NaN</td>\n",
       "      <td>Asia</td>\n",
       "    </tr>\n",
       "    <tr>\n",
       "      <th>1</th>\n",
       "      <td>Afghanistan</td>\n",
       "      <td>AFG</td>\n",
       "      <td>2015</td>\n",
       "      <td>0.189425</td>\n",
       "      <td>2068.265904</td>\n",
       "      <td>34413603.0</td>\n",
       "      <td>Asia</td>\n",
       "    </tr>\n",
       "    <tr>\n",
       "      <th>2</th>\n",
       "      <td>Afghanistan</td>\n",
       "      <td>AFG</td>\n",
       "      <td>2002</td>\n",
       "      <td>NaN</td>\n",
       "      <td>1189.784668</td>\n",
       "      <td>22600774.0</td>\n",
       "      <td>NaN</td>\n",
       "    </tr>\n",
       "    <tr>\n",
       "      <th>3</th>\n",
       "      <td>Afghanistan</td>\n",
       "      <td>AFG</td>\n",
       "      <td>2003</td>\n",
       "      <td>NaN</td>\n",
       "      <td>1235.810063</td>\n",
       "      <td>23680871.0</td>\n",
       "      <td>NaN</td>\n",
       "    </tr>\n",
       "    <tr>\n",
       "      <th>4</th>\n",
       "      <td>Afghanistan</td>\n",
       "      <td>AFG</td>\n",
       "      <td>2004</td>\n",
       "      <td>NaN</td>\n",
       "      <td>1200.278013</td>\n",
       "      <td>24726689.0</td>\n",
       "      <td>NaN</td>\n",
       "    </tr>\n",
       "  </tbody>\n",
       "</table>\n",
       "</div>"
      ],
      "text/plain": [
       "        Entity      Code  Year  Share of one person households  \\\n",
       "0     Abkhazia  OWID_ABK  2015                             NaN   \n",
       "1  Afghanistan       AFG  2015                        0.189425   \n",
       "2  Afghanistan       AFG  2002                             NaN   \n",
       "3  Afghanistan       AFG  2003                             NaN   \n",
       "4  Afghanistan       AFG  2004                             NaN   \n",
       "\n",
       "   GDP per capita, PPP (constant 2017 international $)  \\\n",
       "0                                                NaN     \n",
       "1                                        2068.265904     \n",
       "2                                        1189.784668     \n",
       "3                                        1235.810063     \n",
       "4                                        1200.278013     \n",
       "\n",
       "   Population (historical estimates) Continent  \n",
       "0                                NaN      Asia  \n",
       "1                         34413603.0      Asia  \n",
       "2                         22600774.0       NaN  \n",
       "3                         23680871.0       NaN  \n",
       "4                         24726689.0       NaN  "
      ]
     },
     "execution_count": 50,
     "metadata": {},
     "output_type": "execute_result"
    }
   ],
   "source": [
    "df_one = pd.read_csv(\"one_person_household.csv\")\n",
    "df_one.head()"
   ]
  },
  {
   "cell_type": "code",
   "execution_count": 51,
   "id": "493b7d8a",
   "metadata": {},
   "outputs": [
    {
     "data": {
      "text/plain": [
       "Index(['Entity', 'Code', 'Year', 'Share of one person households',\n",
       "       'GDP per capita, PPP (constant 2017 international $)',\n",
       "       'Population (historical estimates)', 'Continent'],\n",
       "      dtype='object')"
      ]
     },
     "execution_count": 51,
     "metadata": {},
     "output_type": "execute_result"
    }
   ],
   "source": [
    "df_one.columns"
   ]
  },
  {
   "cell_type": "code",
   "execution_count": 52,
   "id": "fcf64fe9",
   "metadata": {},
   "outputs": [],
   "source": [
    "# create entity to continent map for filtering feature in viz\n",
    "entity2continent = {}\n",
    "for row in df_one.itertuples():\n",
    "    if not pd.isnull(row[-1]):\n",
    "        entity2continent[row[1]] = row[-1]"
   ]
  },
  {
   "cell_type": "code",
   "execution_count": 53,
   "id": "bf19c403",
   "metadata": {
    "scrolled": true
   },
   "outputs": [],
   "source": [
    "# surveys on single households didn't start until 1970\n",
    "df_one_plot = df_one[(df_one[\"Year\"]>1970) \\\n",
    "                     & (~df_one[\"Code\"].isna()) \\\n",
    "                     & (~df_one[\"Share of one person households\"].isna())].sort_values(by=\"Year\")\n",
    "df_one_plot[\"Continent\"] = df_one_plot[\"Entity\"].apply(lambda entity: entity2continent[entity])\n",
    "# the data here will merge with world bank data preloaded in flourish studio\n",
    "df_one_plot.to_csv(\"one_person_household_plot.csv\", index=False) "
   ]
  },
  {
   "cell_type": "code",
   "execution_count": 56,
   "id": "8be424a6",
   "metadata": {},
   "outputs": [
    {
     "data": {
      "image/png": "[encoded data removed]",
      "text/plain": [
       "<Figure size 432x288 with 1 Axes>"
      ]
     },
     "metadata": {
      "needs_background": "light"
     },
     "output_type": "display_data"
    }
   ],
   "source": [
    "g_one = sns.lineplot(data=df_one_plot, x=\"GDP per capita, PPP (constant 2017 international $)\", y=\"Share of one person households\", hue=\"Entity\", legend=False)"
   ]
  },
  {
   "cell_type": "code",
   "execution_count": 57,
   "id": "02ef8ecb",
   "metadata": {},
   "outputs": [],
   "source": [
    "# messy lineplot needs further work in flourish\n",
    "# TO-DO:\n",
    "# log-scale x-axis, size of population representecd using filled circles, trend line"
   ]
  }
 ],
 "metadata": {
  "kernelspec": {
   "display_name": "Python 3",
   "language": "python",
   "name": "python3"
  },
  "language_info": {
   "codemirror_mode": {
    "name": "ipython",
    "version": 3
   },
   "file_extension": ".py",
   "mimetype": "text/x-python",
   "name": "python",
   "nbconvert_exporter": "python",
   "pygments_lexer": "ipython3",
   "version": "3.8.8"
  }
 },
 "nbformat": 4,
 "nbformat_minor": 5
}
