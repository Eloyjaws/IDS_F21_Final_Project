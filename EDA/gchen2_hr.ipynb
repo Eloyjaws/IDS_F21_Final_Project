{
 "cells": [
  {
   "cell_type": "markdown",
   "id": "b22d269b",
   "metadata": {},
   "source": [
    "This notebook aims to explore relationships between human resources with suicide rate (https://www.kaggle.com/twinkle0705/mental-health-and-suicide-rates?select=Human+Resources.csv)."
   ]
  },
  {
   "cell_type": "code",
   "execution_count": 18,
   "id": "c8ae5ee5",
   "metadata": {},
   "outputs": [],
   "source": [
    "import numpy as np\n",
    "import pandas as pd\n",
    "import matplotlib.pyplot as plt\n",
    "import seaborn as sns\n",
    "\n",
    "sns.set()\n",
    "sns.set_style(\"darkgrid\")\n",
    "%matplotlib inline"
   ]
  },
  {
   "cell_type": "code",
   "execution_count": 19,
   "id": "dce0b59e",
   "metadata": {},
   "outputs": [],
   "source": [
    "# relationship with suicide rates is first explored\n",
    "df_hr = pd.read_csv(\"Human Resources.csv\")\n",
    "df_suicide = pd.read_csv(\"Age-standardized suicide rates.csv\")"
   ]
  },
  {
   "cell_type": "code",
   "execution_count": 24,
   "id": "8314ec18",
   "metadata": {},
   "outputs": [
    {
     "data": {
      "text/html": [
       "<div>\n",
       "<style scoped>\n",
       "    .dataframe tbody tr th:only-of-type {\n",
       "        vertical-align: middle;\n",
       "    }\n",
       "\n",
       "    .dataframe tbody tr th {\n",
       "        vertical-align: top;\n",
       "    }\n",
       "\n",
       "    .dataframe thead th {\n",
       "        text-align: right;\n",
       "    }\n",
       "</style>\n",
       "<table border=\"1\" class=\"dataframe\">\n",
       "  <thead>\n",
       "    <tr style=\"text-align: right;\">\n",
       "      <th></th>\n",
       "      <th>Country</th>\n",
       "      <th>Year</th>\n",
       "      <th>Psychiatrists</th>\n",
       "      <th>Nurses</th>\n",
       "      <th>Social_workers</th>\n",
       "      <th>Psychologists</th>\n",
       "    </tr>\n",
       "  </thead>\n",
       "  <tbody>\n",
       "    <tr>\n",
       "      <th>0</th>\n",
       "      <td>Afghanistan</td>\n",
       "      <td>2016</td>\n",
       "      <td>0.231</td>\n",
       "      <td>0.098</td>\n",
       "      <td>NaN</td>\n",
       "      <td>0.296</td>\n",
       "    </tr>\n",
       "    <tr>\n",
       "      <th>1</th>\n",
       "      <td>Albania</td>\n",
       "      <td>2016</td>\n",
       "      <td>1.471</td>\n",
       "      <td>6.876</td>\n",
       "      <td>1.060</td>\n",
       "      <td>1.231</td>\n",
       "    </tr>\n",
       "    <tr>\n",
       "      <th>2</th>\n",
       "      <td>Angola</td>\n",
       "      <td>2016</td>\n",
       "      <td>0.057</td>\n",
       "      <td>0.660</td>\n",
       "      <td>0.022</td>\n",
       "      <td>0.179</td>\n",
       "    </tr>\n",
       "    <tr>\n",
       "      <th>3</th>\n",
       "      <td>Antigua and Barbuda</td>\n",
       "      <td>2016</td>\n",
       "      <td>1.001</td>\n",
       "      <td>7.005</td>\n",
       "      <td>4.003</td>\n",
       "      <td>NaN</td>\n",
       "    </tr>\n",
       "    <tr>\n",
       "      <th>4</th>\n",
       "      <td>Argentina</td>\n",
       "      <td>2016</td>\n",
       "      <td>21.705</td>\n",
       "      <td>NaN</td>\n",
       "      <td>NaN</td>\n",
       "      <td>222.572</td>\n",
       "    </tr>\n",
       "  </tbody>\n",
       "</table>\n",
       "</div>"
      ],
      "text/plain": [
       "               Country  Year  Psychiatrists  Nurses  Social_workers  \\\n",
       "0          Afghanistan  2016          0.231   0.098             NaN   \n",
       "1              Albania  2016          1.471   6.876           1.060   \n",
       "2               Angola  2016          0.057   0.660           0.022   \n",
       "3  Antigua and Barbuda  2016          1.001   7.005           4.003   \n",
       "4            Argentina  2016         21.705     NaN             NaN   \n",
       "\n",
       "   Psychologists  \n",
       "0          0.296  \n",
       "1          1.231  \n",
       "2          0.179  \n",
       "3            NaN  \n",
       "4        222.572  "
      ]
     },
     "execution_count": 24,
     "metadata": {},
     "output_type": "execute_result"
    }
   ],
   "source": [
    "df_hr.head()"
   ]
  },
  {
   "cell_type": "code",
   "execution_count": 25,
   "id": "83c819e5",
   "metadata": {},
   "outputs": [
    {
     "data": {
      "text/html": [
       "<div>\n",
       "<style scoped>\n",
       "    .dataframe tbody tr th:only-of-type {\n",
       "        vertical-align: middle;\n",
       "    }\n",
       "\n",
       "    .dataframe tbody tr th {\n",
       "        vertical-align: top;\n",
       "    }\n",
       "\n",
       "    .dataframe thead th {\n",
       "        text-align: right;\n",
       "    }\n",
       "</style>\n",
       "<table border=\"1\" class=\"dataframe\">\n",
       "  <thead>\n",
       "    <tr style=\"text-align: right;\">\n",
       "      <th></th>\n",
       "      <th>Country</th>\n",
       "      <th>Sex</th>\n",
       "      <th>2016</th>\n",
       "      <th>2015</th>\n",
       "      <th>2010</th>\n",
       "      <th>2000</th>\n",
       "    </tr>\n",
       "  </thead>\n",
       "  <tbody>\n",
       "    <tr>\n",
       "      <th>0</th>\n",
       "      <td>Afghanistan</td>\n",
       "      <td>Both sexes</td>\n",
       "      <td>6.4</td>\n",
       "      <td>6.6</td>\n",
       "      <td>7.4</td>\n",
       "      <td>8.1</td>\n",
       "    </tr>\n",
       "    <tr>\n",
       "      <th>1</th>\n",
       "      <td>Afghanistan</td>\n",
       "      <td>Male</td>\n",
       "      <td>10.6</td>\n",
       "      <td>10.9</td>\n",
       "      <td>12.5</td>\n",
       "      <td>14.3</td>\n",
       "    </tr>\n",
       "    <tr>\n",
       "      <th>2</th>\n",
       "      <td>Afghanistan</td>\n",
       "      <td>Female</td>\n",
       "      <td>2.1</td>\n",
       "      <td>2.1</td>\n",
       "      <td>2.1</td>\n",
       "      <td>1.7</td>\n",
       "    </tr>\n",
       "    <tr>\n",
       "      <th>3</th>\n",
       "      <td>Albania</td>\n",
       "      <td>Both sexes</td>\n",
       "      <td>5.6</td>\n",
       "      <td>5.3</td>\n",
       "      <td>7.7</td>\n",
       "      <td>5.8</td>\n",
       "    </tr>\n",
       "    <tr>\n",
       "      <th>4</th>\n",
       "      <td>Albania</td>\n",
       "      <td>Male</td>\n",
       "      <td>7.0</td>\n",
       "      <td>6.7</td>\n",
       "      <td>9.5</td>\n",
       "      <td>8.2</td>\n",
       "    </tr>\n",
       "  </tbody>\n",
       "</table>\n",
       "</div>"
      ],
      "text/plain": [
       "       Country          Sex  2016  2015  2010  2000\n",
       "0  Afghanistan   Both sexes   6.4   6.6   7.4   8.1\n",
       "1  Afghanistan         Male  10.6  10.9  12.5  14.3\n",
       "2  Afghanistan       Female   2.1   2.1   2.1   1.7\n",
       "3      Albania   Both sexes   5.6   5.3   7.7   5.8\n",
       "4      Albania         Male   7.0   6.7   9.5   8.2"
      ]
     },
     "execution_count": 25,
     "metadata": {},
     "output_type": "execute_result"
    }
   ],
   "source": [
    "df_suicide.head()"
   ]
  },
  {
   "cell_type": "code",
   "execution_count": 21,
   "id": "de1a06d5",
   "metadata": {},
   "outputs": [
    {
     "data": {
      "text/html": [
       "<div>\n",
       "<style scoped>\n",
       "    .dataframe tbody tr th:only-of-type {\n",
       "        vertical-align: middle;\n",
       "    }\n",
       "\n",
       "    .dataframe tbody tr th {\n",
       "        vertical-align: top;\n",
       "    }\n",
       "\n",
       "    .dataframe thead th {\n",
       "        text-align: right;\n",
       "    }\n",
       "</style>\n",
       "<table border=\"1\" class=\"dataframe\">\n",
       "  <thead>\n",
       "    <tr style=\"text-align: right;\">\n",
       "      <th></th>\n",
       "      <th>Year</th>\n",
       "      <th>Psychiatrists</th>\n",
       "      <th>Nurses</th>\n",
       "      <th>Social_workers</th>\n",
       "      <th>Psychologists</th>\n",
       "    </tr>\n",
       "  </thead>\n",
       "  <tbody>\n",
       "    <tr>\n",
       "      <th>count</th>\n",
       "      <td>107.0</td>\n",
       "      <td>104.000000</td>\n",
       "      <td>91.000000</td>\n",
       "      <td>68.000000</td>\n",
       "      <td>84.000000</td>\n",
       "    </tr>\n",
       "    <tr>\n",
       "      <th>mean</th>\n",
       "      <td>2016.0</td>\n",
       "      <td>4.340519</td>\n",
       "      <td>12.122934</td>\n",
       "      <td>4.832632</td>\n",
       "      <td>10.415345</td>\n",
       "    </tr>\n",
       "    <tr>\n",
       "      <th>std</th>\n",
       "      <td>0.0</td>\n",
       "      <td>7.645392</td>\n",
       "      <td>22.869974</td>\n",
       "      <td>16.902273</td>\n",
       "      <td>31.451687</td>\n",
       "    </tr>\n",
       "    <tr>\n",
       "      <th>min</th>\n",
       "      <td>2016.0</td>\n",
       "      <td>0.007000</td>\n",
       "      <td>0.000000</td>\n",
       "      <td>0.006000</td>\n",
       "      <td>0.000000</td>\n",
       "    </tr>\n",
       "    <tr>\n",
       "      <th>25%</th>\n",
       "      <td>2016.0</td>\n",
       "      <td>0.219750</td>\n",
       "      <td>0.793500</td>\n",
       "      <td>0.066500</td>\n",
       "      <td>0.236750</td>\n",
       "    </tr>\n",
       "    <tr>\n",
       "      <th>50%</th>\n",
       "      <td>2016.0</td>\n",
       "      <td>1.231000</td>\n",
       "      <td>4.199000</td>\n",
       "      <td>0.375500</td>\n",
       "      <td>1.139000</td>\n",
       "    </tr>\n",
       "    <tr>\n",
       "      <th>75%</th>\n",
       "      <td>2016.0</td>\n",
       "      <td>4.559500</td>\n",
       "      <td>10.952500</td>\n",
       "      <td>1.351250</td>\n",
       "      <td>5.150250</td>\n",
       "    </tr>\n",
       "    <tr>\n",
       "      <th>max</th>\n",
       "      <td>2016.0</td>\n",
       "      <td>48.040000</td>\n",
       "      <td>150.251000</td>\n",
       "      <td>102.592000</td>\n",
       "      <td>222.572000</td>\n",
       "    </tr>\n",
       "  </tbody>\n",
       "</table>\n",
       "</div>"
      ],
      "text/plain": [
       "         Year  Psychiatrists      Nurses  Social_workers  Psychologists\n",
       "count   107.0     104.000000   91.000000       68.000000      84.000000\n",
       "mean   2016.0       4.340519   12.122934        4.832632      10.415345\n",
       "std       0.0       7.645392   22.869974       16.902273      31.451687\n",
       "min    2016.0       0.007000    0.000000        0.006000       0.000000\n",
       "25%    2016.0       0.219750    0.793500        0.066500       0.236750\n",
       "50%    2016.0       1.231000    4.199000        0.375500       1.139000\n",
       "75%    2016.0       4.559500   10.952500        1.351250       5.150250\n",
       "max    2016.0      48.040000  150.251000      102.592000     222.572000"
      ]
     },
     "execution_count": 21,
     "metadata": {},
     "output_type": "execute_result"
    }
   ],
   "source": [
    "df_hr.describe()"
   ]
  },
  {
   "cell_type": "code",
   "execution_count": 22,
   "id": "6b3bd16c",
   "metadata": {},
   "outputs": [
    {
     "data": {
      "text/html": [
       "<div>\n",
       "<style scoped>\n",
       "    .dataframe tbody tr th:only-of-type {\n",
       "        vertical-align: middle;\n",
       "    }\n",
       "\n",
       "    .dataframe tbody tr th {\n",
       "        vertical-align: top;\n",
       "    }\n",
       "\n",
       "    .dataframe thead th {\n",
       "        text-align: right;\n",
       "    }\n",
       "</style>\n",
       "<table border=\"1\" class=\"dataframe\">\n",
       "  <thead>\n",
       "    <tr style=\"text-align: right;\">\n",
       "      <th></th>\n",
       "      <th>2016</th>\n",
       "      <th>2015</th>\n",
       "      <th>2010</th>\n",
       "      <th>2000</th>\n",
       "    </tr>\n",
       "  </thead>\n",
       "  <tbody>\n",
       "    <tr>\n",
       "      <th>count</th>\n",
       "      <td>549.000000</td>\n",
       "      <td>549.000000</td>\n",
       "      <td>549.000000</td>\n",
       "      <td>549.000000</td>\n",
       "    </tr>\n",
       "    <tr>\n",
       "      <th>mean</th>\n",
       "      <td>9.792532</td>\n",
       "      <td>9.925683</td>\n",
       "      <td>10.544991</td>\n",
       "      <td>12.164117</td>\n",
       "    </tr>\n",
       "    <tr>\n",
       "      <th>std</th>\n",
       "      <td>7.469341</td>\n",
       "      <td>7.633241</td>\n",
       "      <td>8.620174</td>\n",
       "      <td>10.378318</td>\n",
       "    </tr>\n",
       "    <tr>\n",
       "      <th>min</th>\n",
       "      <td>0.000000</td>\n",
       "      <td>0.000000</td>\n",
       "      <td>0.000000</td>\n",
       "      <td>0.100000</td>\n",
       "    </tr>\n",
       "    <tr>\n",
       "      <th>25%</th>\n",
       "      <td>4.300000</td>\n",
       "      <td>4.400000</td>\n",
       "      <td>4.700000</td>\n",
       "      <td>5.100000</td>\n",
       "    </tr>\n",
       "    <tr>\n",
       "      <th>50%</th>\n",
       "      <td>7.900000</td>\n",
       "      <td>8.100000</td>\n",
       "      <td>8.400000</td>\n",
       "      <td>9.500000</td>\n",
       "    </tr>\n",
       "    <tr>\n",
       "      <th>75%</th>\n",
       "      <td>13.400000</td>\n",
       "      <td>13.300000</td>\n",
       "      <td>14.100000</td>\n",
       "      <td>16.000000</td>\n",
       "    </tr>\n",
       "    <tr>\n",
       "      <th>max</th>\n",
       "      <td>48.300000</td>\n",
       "      <td>51.500000</td>\n",
       "      <td>62.300000</td>\n",
       "      <td>85.800000</td>\n",
       "    </tr>\n",
       "  </tbody>\n",
       "</table>\n",
       "</div>"
      ],
      "text/plain": [
       "             2016        2015        2010        2000\n",
       "count  549.000000  549.000000  549.000000  549.000000\n",
       "mean     9.792532    9.925683   10.544991   12.164117\n",
       "std      7.469341    7.633241    8.620174   10.378318\n",
       "min      0.000000    0.000000    0.000000    0.100000\n",
       "25%      4.300000    4.400000    4.700000    5.100000\n",
       "50%      7.900000    8.100000    8.400000    9.500000\n",
       "75%     13.400000   13.300000   14.100000   16.000000\n",
       "max     48.300000   51.500000   62.300000   85.800000"
      ]
     },
     "execution_count": 22,
     "metadata": {},
     "output_type": "execute_result"
    }
   ],
   "source": [
    "df_suicide.describe()"
   ]
  },
  {
   "cell_type": "code",
   "execution_count": 7,
   "id": "1629544f",
   "metadata": {},
   "outputs": [
    {
     "data": {
      "text/plain": [
       "Country            0\n",
       "Year               0\n",
       "Psychiatrists      3\n",
       "Nurses            16\n",
       "Social_workers    39\n",
       "Psychologists     23\n",
       "dtype: int64"
      ]
     },
     "execution_count": 7,
     "metadata": {},
     "output_type": "execute_result"
    }
   ],
   "source": [
    "df_hr.isna().sum()"
   ]
  },
  {
   "cell_type": "code",
   "execution_count": null,
   "id": "685a9971",
   "metadata": {},
   "outputs": [],
   "source": [
    "# if needed NaN can be filled with 0 here by running the following command\n",
    "# df_hr = df_hr.fillna(0.0)"
   ]
  },
  {
   "cell_type": "code",
   "execution_count": 26,
   "id": "25b78bd9",
   "metadata": {},
   "outputs": [
    {
     "data": {
      "text/plain": [
       "Country    0\n",
       "Sex        0\n",
       "2016       0\n",
       "2015       0\n",
       "2010       0\n",
       "2000       0\n",
       "dtype: int64"
      ]
     },
     "execution_count": 26,
     "metadata": {},
     "output_type": "execute_result"
    }
   ],
   "source": [
    "df_suicide.isna().sum()"
   ]
  },
  {
   "cell_type": "code",
   "execution_count": 29,
   "id": "cb700fa0",
   "metadata": {},
   "outputs": [
    {
     "data": {
      "text/plain": [
       "array([' Both sexes', ' Male', ' Female'], dtype=object)"
      ]
     },
     "execution_count": 29,
     "metadata": {},
     "output_type": "execute_result"
    }
   ],
   "source": [
    "pd.unique(df_suicide[\"Sex\"])"
   ]
  },
  {
   "cell_type": "code",
   "execution_count": 30,
   "id": "8bf0f09c",
   "metadata": {},
   "outputs": [
    {
     "data": {
      "text/html": [
       "<div>\n",
       "<style scoped>\n",
       "    .dataframe tbody tr th:only-of-type {\n",
       "        vertical-align: middle;\n",
       "    }\n",
       "\n",
       "    .dataframe tbody tr th {\n",
       "        vertical-align: top;\n",
       "    }\n",
       "\n",
       "    .dataframe thead th {\n",
       "        text-align: right;\n",
       "    }\n",
       "</style>\n",
       "<table border=\"1\" class=\"dataframe\">\n",
       "  <thead>\n",
       "    <tr style=\"text-align: right;\">\n",
       "      <th></th>\n",
       "      <th>Country</th>\n",
       "      <th>Sex</th>\n",
       "      <th>2016</th>\n",
       "      <th>2015</th>\n",
       "      <th>2010</th>\n",
       "      <th>2000</th>\n",
       "    </tr>\n",
       "  </thead>\n",
       "  <tbody>\n",
       "    <tr>\n",
       "      <th>0</th>\n",
       "      <td>Afghanistan</td>\n",
       "      <td>Both sexes</td>\n",
       "      <td>6.4</td>\n",
       "      <td>6.6</td>\n",
       "      <td>7.4</td>\n",
       "      <td>8.1</td>\n",
       "    </tr>\n",
       "    <tr>\n",
       "      <th>3</th>\n",
       "      <td>Albania</td>\n",
       "      <td>Both sexes</td>\n",
       "      <td>5.6</td>\n",
       "      <td>5.3</td>\n",
       "      <td>7.7</td>\n",
       "      <td>5.8</td>\n",
       "    </tr>\n",
       "    <tr>\n",
       "      <th>6</th>\n",
       "      <td>Algeria</td>\n",
       "      <td>Both sexes</td>\n",
       "      <td>3.3</td>\n",
       "      <td>3.4</td>\n",
       "      <td>3.5</td>\n",
       "      <td>4.7</td>\n",
       "    </tr>\n",
       "    <tr>\n",
       "      <th>9</th>\n",
       "      <td>Angola</td>\n",
       "      <td>Both sexes</td>\n",
       "      <td>8.9</td>\n",
       "      <td>9.3</td>\n",
       "      <td>10.4</td>\n",
       "      <td>13.9</td>\n",
       "    </tr>\n",
       "    <tr>\n",
       "      <th>12</th>\n",
       "      <td>Antigua and Barbuda</td>\n",
       "      <td>Both sexes</td>\n",
       "      <td>0.5</td>\n",
       "      <td>0.8</td>\n",
       "      <td>0.2</td>\n",
       "      <td>2.1</td>\n",
       "    </tr>\n",
       "    <tr>\n",
       "      <th>...</th>\n",
       "      <td>...</td>\n",
       "      <td>...</td>\n",
       "      <td>...</td>\n",
       "      <td>...</td>\n",
       "      <td>...</td>\n",
       "      <td>...</td>\n",
       "    </tr>\n",
       "    <tr>\n",
       "      <th>534</th>\n",
       "      <td>Venezuela (Bolivarian Republic of)</td>\n",
       "      <td>Both sexes</td>\n",
       "      <td>3.8</td>\n",
       "      <td>3.9</td>\n",
       "      <td>4.5</td>\n",
       "      <td>9.1</td>\n",
       "    </tr>\n",
       "    <tr>\n",
       "      <th>537</th>\n",
       "      <td>Viet Nam</td>\n",
       "      <td>Both sexes</td>\n",
       "      <td>7.0</td>\n",
       "      <td>7.0</td>\n",
       "      <td>7.1</td>\n",
       "      <td>7.5</td>\n",
       "    </tr>\n",
       "    <tr>\n",
       "      <th>540</th>\n",
       "      <td>Yemen</td>\n",
       "      <td>Both sexes</td>\n",
       "      <td>9.8</td>\n",
       "      <td>9.9</td>\n",
       "      <td>10.6</td>\n",
       "      <td>9.1</td>\n",
       "    </tr>\n",
       "    <tr>\n",
       "      <th>543</th>\n",
       "      <td>Zambia</td>\n",
       "      <td>Both sexes</td>\n",
       "      <td>11.3</td>\n",
       "      <td>11.2</td>\n",
       "      <td>11.5</td>\n",
       "      <td>14.1</td>\n",
       "    </tr>\n",
       "    <tr>\n",
       "      <th>546</th>\n",
       "      <td>Zimbabwe</td>\n",
       "      <td>Both sexes</td>\n",
       "      <td>19.1</td>\n",
       "      <td>18.9</td>\n",
       "      <td>20.6</td>\n",
       "      <td>21.7</td>\n",
       "    </tr>\n",
       "  </tbody>\n",
       "</table>\n",
       "<p>183 rows × 6 columns</p>\n",
       "</div>"
      ],
      "text/plain": [
       "                                Country          Sex  2016  2015  2010  2000\n",
       "0                           Afghanistan   Both sexes   6.4   6.6   7.4   8.1\n",
       "3                               Albania   Both sexes   5.6   5.3   7.7   5.8\n",
       "6                               Algeria   Both sexes   3.3   3.4   3.5   4.7\n",
       "9                                Angola   Both sexes   8.9   9.3  10.4  13.9\n",
       "12                  Antigua and Barbuda   Both sexes   0.5   0.8   0.2   2.1\n",
       "..                                  ...          ...   ...   ...   ...   ...\n",
       "534  Venezuela (Bolivarian Republic of)   Both sexes   3.8   3.9   4.5   9.1\n",
       "537                            Viet Nam   Both sexes   7.0   7.0   7.1   7.5\n",
       "540                               Yemen   Both sexes   9.8   9.9  10.6   9.1\n",
       "543                              Zambia   Both sexes  11.3  11.2  11.5  14.1\n",
       "546                            Zimbabwe   Both sexes  19.1  18.9  20.6  21.7\n",
       "\n",
       "[183 rows x 6 columns]"
      ]
     },
     "execution_count": 30,
     "metadata": {},
     "output_type": "execute_result"
    }
   ],
   "source": [
    "df_suicide[df_suicide[\"Sex\"] == \" Both sexes\"]"
   ]
  },
  {
   "cell_type": "code",
   "execution_count": 39,
   "id": "7cf6b54f",
   "metadata": {},
   "outputs": [
    {
     "data": {
      "text/plain": [
       "Country     object\n",
       "Sex         object\n",
       "2016       float64\n",
       "dtype: object"
      ]
     },
     "execution_count": 39,
     "metadata": {},
     "output_type": "execute_result"
    }
   ],
   "source": [
    "df_suicide.dtypes"
   ]
  },
  {
   "cell_type": "code",
   "execution_count": 41,
   "id": "8c0029cc",
   "metadata": {
    "scrolled": true
   },
   "outputs": [
    {
     "data": {
      "text/plain": [
       "Country           object\n",
       "Psychiatrists    float64\n",
       "dtype: object"
      ]
     },
     "execution_count": 41,
     "metadata": {},
     "output_type": "execute_result"
    }
   ],
   "source": [
    "df_psychiatrists.dtypes"
   ]
  },
  {
   "cell_type": "markdown",
   "id": "a425b9c2",
   "metadata": {},
   "source": [
    "Since both number of Psychiatrists/Nurses/Social_worker/Psychologists per capita may have an impact on the suicide rate, the following visualization aims to explore whether there are any correlations between human resources and suicide rate"
   ]
  },
  {
   "cell_type": "code",
   "execution_count": 27,
   "id": "d14bc75e",
   "metadata": {},
   "outputs": [],
   "source": [
    "df_combo = df_hr.set_index(\"Country\").join(df_suicide.set_index(\"Country\"), on=[\"Country\"], how=\"inner\")"
   ]
  },
  {
   "cell_type": "code",
   "execution_count": 32,
   "id": "d4b9bf3f",
   "metadata": {},
   "outputs": [
    {
     "data": {
      "image/png": "[encoded data removed]",
      "text/plain": [
       "<Figure size 432x432 with 3 Axes>"
      ]
     },
     "metadata": {
      "needs_background": "light"
     },
     "output_type": "display_data"
    }
   ],
   "source": [
    "# Psychiatrists per capita vs Suicide Rate in 2016\n",
    "\n",
    "# Note: Human Resources Data is Sampled at 2016\n",
    "df_psychiatrists_plot = df_combo[[\"Psychiatrists\", \"2016\"]].dropna()\n",
    "my_plot = sns.jointplot(data=df_psychiatrists_plot, x=\"Psychiatrists\", y=\"2016\", kind=\"reg\")"
   ]
  },
  {
   "cell_type": "code",
   "execution_count": 41,
   "id": "b6d47c14",
   "metadata": {},
   "outputs": [
    {
     "data": {
      "image/png": "[encoded data removed]",
      "text/plain": [
       "<Figure size 432x432 with 3 Axes>"
      ]
     },
     "metadata": {
      "needs_background": "light"
     },
     "output_type": "display_data"
    }
   ],
   "source": [
    "# Nurses per capita vs Suicide Rate in 2016\n",
    "\n",
    "# Note: Human Resources Data is Sampled at 2016\n",
    "df_nurses_plot = df_combo[[\"Nurses\", \"2016\"]].dropna()\n",
    "my_plot_2 = sns.jointplot(data=df_nurses_plot, x=\"Nurses\", y=\"2016\", kind=\"reg\")"
   ]
  },
  {
   "cell_type": "code",
   "execution_count": 40,
   "id": "13e1a9eb",
   "metadata": {
    "scrolled": false
   },
   "outputs": [
    {
     "data": {
      "image/png": "[encoded data removed]",
      "text/plain": [
       "<Figure size 432x432 with 3 Axes>"
      ]
     },
     "metadata": {
      "needs_background": "light"
     },
     "output_type": "display_data"
    }
   ],
   "source": [
    "# Social_worker per capita vs Suicide Rate in 2016\n",
    "\n",
    "# Note: Human Resources Data is Sampled at 2016\n",
    "df_social_worker_plot = df_combo[[\"Social_workers\", \"2016\"]].dropna()\n",
    "my_plot_3 = sns.jointplot(data=df_psychiatrists_plot_3, x=\"Social_workers\", y=\"2016\", kind=\"reg\")"
   ]
  },
  {
   "cell_type": "code",
   "execution_count": 50,
   "id": "8abf7729",
   "metadata": {},
   "outputs": [
    {
     "data": {
      "image/png": "[encoded data removed]",
      "text/plain": [
       "<Figure size 432x432 with 3 Axes>"
      ]
     },
     "metadata": {
      "needs_background": "light"
     },
     "output_type": "display_data"
    }
   ],
   "source": [
    "# Psychologists per capita vs Suicide Rate in 2016\n",
    "\n",
    "# Note: Human Resources Data is Sampled at 2016\n",
    "df_psychologists = df_combo[[\"Psychologists\", \"2016\"]].dropna()\n",
    "my_plot_4 = sns.jointplot(data=df_psychologists, x=\"Psychologists\", y=\"2016\", kind=\"reg\")"
   ]
  },
  {
   "cell_type": "markdown",
   "id": "452d1019",
   "metadata": {},
   "source": [
    "As shown in the plots created above, only the number of psychiatrists slightly correlate with the suicide rate in 2016. This can be a result of lack of accurate documentation of suicide incidence and "
   ]
  },
  {
   "cell_type": "markdown",
   "id": "3adae40d",
   "metadata": {},
   "source": [
    "Psychiatrists and psychologists are very important for treating mental illness such as depression and raising awareness and advancing public awareness of mental illness, the following steps shows the distribution of number of psychiatrists and psychologists across different countries in different countries."
   ]
  },
  {
   "cell_type": "code",
   "execution_count": 60,
   "id": "cd45bbaf",
   "metadata": {},
   "outputs": [
    {
     "data": {
      "image/png": "[encoded data removed]",
      "text/plain": [
       "<Figure size 360x360 with 1 Axes>"
      ]
     },
     "metadata": {
      "needs_background": "light"
     },
     "output_type": "display_data"
    }
   ],
   "source": [
    "g1 = sns.displot(data=df_psychiatrists_plot, x=\"Psychiatrists\", kde=True, log_scale=(False, True))"
   ]
  },
  {
   "cell_type": "code",
   "execution_count": 61,
   "id": "3de418a2",
   "metadata": {},
   "outputs": [
    {
     "data": {
      "text/plain": [
       "<seaborn.axisgrid.FacetGrid at 0x1f29f3b7550>"
      ]
     },
     "execution_count": 61,
     "metadata": {},
     "output_type": "execute_result"
    },
    {
     "data": {
      "image/png": "[encoded data removed]",
      "text/plain": [
       "<Figure size 360x360 with 1 Axes>"
      ]
     },
     "metadata": {
      "needs_background": "light"
     },
     "output_type": "display_data"
    }
   ],
   "source": [
    "sns.displot(data=df_psychologists, x=\"Psychologists\", kde=True, log_scale=(False, True))"
   ]
  },
  {
   "cell_type": "markdown",
   "id": "9c0e5feb",
   "metadata": {},
   "source": [
    "The above visualization shows the skewed distribution of psychiatrists / psychologists per capita. Psychologists are significantly rarer than psychiatrists."
   ]
  }
 ],
 "metadata": {
  "kernelspec": {
   "display_name": "Python 3",
   "language": "python",
   "name": "python3"
  },
  "language_info": {
   "codemirror_mode": {
    "name": "ipython",
    "version": 3
   },
   "file_extension": ".py",
   "mimetype": "text/x-python",
   "name": "python",
   "nbconvert_exporter": "python",
   "pygments_lexer": "ipython3",
   "version": "3.8.8"
  }
 },
 "nbformat": 4,
 "nbformat_minor": 5
}
